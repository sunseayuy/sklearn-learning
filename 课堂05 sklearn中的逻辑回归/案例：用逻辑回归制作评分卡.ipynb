{
 "cells": [
  {
   "cell_type": "code",
   "execution_count": 2,
   "metadata": {},
   "outputs": [],
   "source": [
    "# 3.1 导库，获取数据\n",
    "%matplotlib inline\n",
    "import numpy as np\n",
    "import pandas as pd\n",
    "from sklearn.linear_model import LogisticRegression as LR\n",
    "#其实日常在导库的时候，并不是一次性能够知道我们要用的所有库的。通常都是在建模过程中逐渐导入需要的库。"
   ]
  },
  {
   "cell_type": "code",
   "execution_count": 3,
   "metadata": {},
   "outputs": [],
   "source": [
    "data = pd.read_csv(r\"H:\\学习小分队\\机器学习\\sklearn学习_jb51\\【机器学习】菜菜的sklearn课堂(1-12全课)\\05逻辑回归与评分卡\\rankingcard.csv\",index_col=0)"
   ]
  },
  {
   "cell_type": "code",
   "execution_count": 4,
   "metadata": {},
   "outputs": [
    {
     "data": {
      "text/html": [
       "<div>\n",
       "<style scoped>\n",
       "    .dataframe tbody tr th:only-of-type {\n",
       "        vertical-align: middle;\n",
       "    }\n",
       "\n",
       "    .dataframe tbody tr th {\n",
       "        vertical-align: top;\n",
       "    }\n",
       "\n",
       "    .dataframe thead th {\n",
       "        text-align: right;\n",
       "    }\n",
       "</style>\n",
       "<table border=\"1\" class=\"dataframe\">\n",
       "  <thead>\n",
       "    <tr style=\"text-align: right;\">\n",
       "      <th></th>\n",
       "      <th>SeriousDlqin2yrs</th>\n",
       "      <th>RevolvingUtilizationOfUnsecuredLines</th>\n",
       "      <th>age</th>\n",
       "      <th>NumberOfTime30-59DaysPastDueNotWorse</th>\n",
       "      <th>DebtRatio</th>\n",
       "      <th>MonthlyIncome</th>\n",
       "      <th>NumberOfOpenCreditLinesAndLoans</th>\n",
       "      <th>NumberOfTimes90DaysLate</th>\n",
       "      <th>NumberRealEstateLoansOrLines</th>\n",
       "      <th>NumberOfTime60-89DaysPastDueNotWorse</th>\n",
       "      <th>NumberOfDependents</th>\n",
       "    </tr>\n",
       "  </thead>\n",
       "  <tbody>\n",
       "    <tr>\n",
       "      <th>1</th>\n",
       "      <td>1</td>\n",
       "      <td>0.766127</td>\n",
       "      <td>45</td>\n",
       "      <td>2</td>\n",
       "      <td>0.802982</td>\n",
       "      <td>9120.0</td>\n",
       "      <td>13</td>\n",
       "      <td>0</td>\n",
       "      <td>6</td>\n",
       "      <td>0</td>\n",
       "      <td>2.0</td>\n",
       "    </tr>\n",
       "    <tr>\n",
       "      <th>2</th>\n",
       "      <td>0</td>\n",
       "      <td>0.957151</td>\n",
       "      <td>40</td>\n",
       "      <td>0</td>\n",
       "      <td>0.121876</td>\n",
       "      <td>2600.0</td>\n",
       "      <td>4</td>\n",
       "      <td>0</td>\n",
       "      <td>0</td>\n",
       "      <td>0</td>\n",
       "      <td>1.0</td>\n",
       "    </tr>\n",
       "    <tr>\n",
       "      <th>3</th>\n",
       "      <td>0</td>\n",
       "      <td>0.658180</td>\n",
       "      <td>38</td>\n",
       "      <td>1</td>\n",
       "      <td>0.085113</td>\n",
       "      <td>3042.0</td>\n",
       "      <td>2</td>\n",
       "      <td>1</td>\n",
       "      <td>0</td>\n",
       "      <td>0</td>\n",
       "      <td>0.0</td>\n",
       "    </tr>\n",
       "    <tr>\n",
       "      <th>4</th>\n",
       "      <td>0</td>\n",
       "      <td>0.233810</td>\n",
       "      <td>30</td>\n",
       "      <td>0</td>\n",
       "      <td>0.036050</td>\n",
       "      <td>3300.0</td>\n",
       "      <td>5</td>\n",
       "      <td>0</td>\n",
       "      <td>0</td>\n",
       "      <td>0</td>\n",
       "      <td>0.0</td>\n",
       "    </tr>\n",
       "    <tr>\n",
       "      <th>5</th>\n",
       "      <td>0</td>\n",
       "      <td>0.907239</td>\n",
       "      <td>49</td>\n",
       "      <td>1</td>\n",
       "      <td>0.024926</td>\n",
       "      <td>63588.0</td>\n",
       "      <td>7</td>\n",
       "      <td>0</td>\n",
       "      <td>1</td>\n",
       "      <td>0</td>\n",
       "      <td>0.0</td>\n",
       "    </tr>\n",
       "  </tbody>\n",
       "</table>\n",
       "</div>"
      ],
      "text/plain": [
       "   SeriousDlqin2yrs  RevolvingUtilizationOfUnsecuredLines  age  \\\n",
       "1                 1                              0.766127   45   \n",
       "2                 0                              0.957151   40   \n",
       "3                 0                              0.658180   38   \n",
       "4                 0                              0.233810   30   \n",
       "5                 0                              0.907239   49   \n",
       "\n",
       "   NumberOfTime30-59DaysPastDueNotWorse  DebtRatio  MonthlyIncome  \\\n",
       "1                                     2   0.802982         9120.0   \n",
       "2                                     0   0.121876         2600.0   \n",
       "3                                     1   0.085113         3042.0   \n",
       "4                                     0   0.036050         3300.0   \n",
       "5                                     1   0.024926        63588.0   \n",
       "\n",
       "   NumberOfOpenCreditLinesAndLoans  NumberOfTimes90DaysLate  \\\n",
       "1                               13                        0   \n",
       "2                                4                        0   \n",
       "3                                2                        1   \n",
       "4                                5                        0   \n",
       "5                                7                        0   \n",
       "\n",
       "   NumberRealEstateLoansOrLines  NumberOfTime60-89DaysPastDueNotWorse  \\\n",
       "1                             6                                     0   \n",
       "2                             0                                     0   \n",
       "3                             0                                     0   \n",
       "4                             0                                     0   \n",
       "5                             1                                     0   \n",
       "\n",
       "   NumberOfDependents  \n",
       "1                 2.0  \n",
       "2                 1.0  \n",
       "3                 0.0  \n",
       "4                 0.0  \n",
       "5                 0.0  "
      ]
     },
     "execution_count": 4,
     "metadata": {},
     "output_type": "execute_result"
    }
   ],
   "source": [
    "#3.2 探索数据与数据预处理\n",
    "#观察数据类型\n",
    "data.head()"
   ]
  },
  {
   "cell_type": "code",
   "execution_count": 5,
   "metadata": {},
   "outputs": [
    {
     "data": {
      "text/plain": [
       "(150000, 11)"
      ]
     },
     "execution_count": 5,
     "metadata": {},
     "output_type": "execute_result"
    }
   ],
   "source": [
    "#观察数据结构\n",
    "data.shape"
   ]
  },
  {
   "cell_type": "code",
   "execution_count": 6,
   "metadata": {},
   "outputs": [
    {
     "name": "stdout",
     "output_type": "stream",
     "text": [
      "<class 'pandas.core.frame.DataFrame'>\n",
      "Int64Index: 150000 entries, 1 to 150000\n",
      "Data columns (total 11 columns):\n",
      " #   Column                                Non-Null Count   Dtype  \n",
      "---  ------                                --------------   -----  \n",
      " 0   SeriousDlqin2yrs                      150000 non-null  int64  \n",
      " 1   RevolvingUtilizationOfUnsecuredLines  150000 non-null  float64\n",
      " 2   age                                   150000 non-null  int64  \n",
      " 3   NumberOfTime30-59DaysPastDueNotWorse  150000 non-null  int64  \n",
      " 4   DebtRatio                             150000 non-null  float64\n",
      " 5   MonthlyIncome                         120269 non-null  float64\n",
      " 6   NumberOfOpenCreditLinesAndLoans       150000 non-null  int64  \n",
      " 7   NumberOfTimes90DaysLate               150000 non-null  int64  \n",
      " 8   NumberRealEstateLoansOrLines          150000 non-null  int64  \n",
      " 9   NumberOfTime60-89DaysPastDueNotWorse  150000 non-null  int64  \n",
      " 10  NumberOfDependents                    146076 non-null  float64\n",
      "dtypes: float64(4), int64(7)\n",
      "memory usage: 13.7 MB\n"
     ]
    }
   ],
   "source": [
    "data.info()"
   ]
  },
  {
   "cell_type": "code",
   "execution_count": 7,
   "metadata": {},
   "outputs": [],
   "source": [
    "#3.2.1 去除重复值 并覆盖源数据\n",
    "data.drop_duplicates(inplace=True)"
   ]
  },
  {
   "cell_type": "code",
   "execution_count": 8,
   "metadata": {},
   "outputs": [
    {
     "name": "stdout",
     "output_type": "stream",
     "text": [
      "<class 'pandas.core.frame.DataFrame'>\n",
      "Int64Index: 149391 entries, 1 to 150000\n",
      "Data columns (total 11 columns):\n",
      " #   Column                                Non-Null Count   Dtype  \n",
      "---  ------                                --------------   -----  \n",
      " 0   SeriousDlqin2yrs                      149391 non-null  int64  \n",
      " 1   RevolvingUtilizationOfUnsecuredLines  149391 non-null  float64\n",
      " 2   age                                   149391 non-null  int64  \n",
      " 3   NumberOfTime30-59DaysPastDueNotWorse  149391 non-null  int64  \n",
      " 4   DebtRatio                             149391 non-null  float64\n",
      " 5   MonthlyIncome                         120170 non-null  float64\n",
      " 6   NumberOfOpenCreditLinesAndLoans       149391 non-null  int64  \n",
      " 7   NumberOfTimes90DaysLate               149391 non-null  int64  \n",
      " 8   NumberRealEstateLoansOrLines          149391 non-null  int64  \n",
      " 9   NumberOfTime60-89DaysPastDueNotWorse  149391 non-null  int64  \n",
      " 10  NumberOfDependents                    145563 non-null  float64\n",
      "dtypes: float64(4), int64(7)\n",
      "memory usage: 13.7 MB\n"
     ]
    }
   ],
   "source": [
    "data.info()"
   ]
  },
  {
   "cell_type": "code",
   "execution_count": 9,
   "metadata": {},
   "outputs": [],
   "source": [
    "#删除之后千万不要忘记，恢复索引\n",
    "data.index = range(data.shape[0])"
   ]
  },
  {
   "cell_type": "code",
   "execution_count": 10,
   "metadata": {},
   "outputs": [
    {
     "name": "stdout",
     "output_type": "stream",
     "text": [
      "<class 'pandas.core.frame.DataFrame'>\n",
      "RangeIndex: 149391 entries, 0 to 149390\n",
      "Data columns (total 11 columns):\n",
      " #   Column                                Non-Null Count   Dtype  \n",
      "---  ------                                --------------   -----  \n",
      " 0   SeriousDlqin2yrs                      149391 non-null  int64  \n",
      " 1   RevolvingUtilizationOfUnsecuredLines  149391 non-null  float64\n",
      " 2   age                                   149391 non-null  int64  \n",
      " 3   NumberOfTime30-59DaysPastDueNotWorse  149391 non-null  int64  \n",
      " 4   DebtRatio                             149391 non-null  float64\n",
      " 5   MonthlyIncome                         120170 non-null  float64\n",
      " 6   NumberOfOpenCreditLinesAndLoans       149391 non-null  int64  \n",
      " 7   NumberOfTimes90DaysLate               149391 non-null  int64  \n",
      " 8   NumberRealEstateLoansOrLines          149391 non-null  int64  \n",
      " 9   NumberOfTime60-89DaysPastDueNotWorse  149391 non-null  int64  \n",
      " 10  NumberOfDependents                    145563 non-null  float64\n",
      "dtypes: float64(4), int64(7)\n",
      "memory usage: 12.5 MB\n"
     ]
    }
   ],
   "source": [
    "data.info()"
   ]
  },
  {
   "cell_type": "code",
   "execution_count": 11,
   "metadata": {},
   "outputs": [
    {
     "name": "stdout",
     "output_type": "stream",
     "text": [
      "<class 'pandas.core.frame.DataFrame'>\n",
      "RangeIndex: 149391 entries, 0 to 149390\n",
      "Data columns (total 11 columns):\n",
      " #   Column                                Non-Null Count   Dtype  \n",
      "---  ------                                --------------   -----  \n",
      " 0   SeriousDlqin2yrs                      149391 non-null  int64  \n",
      " 1   RevolvingUtilizationOfUnsecuredLines  149391 non-null  float64\n",
      " 2   age                                   149391 non-null  int64  \n",
      " 3   NumberOfTime30-59DaysPastDueNotWorse  149391 non-null  int64  \n",
      " 4   DebtRatio                             149391 non-null  float64\n",
      " 5   MonthlyIncome                         120170 non-null  float64\n",
      " 6   NumberOfOpenCreditLinesAndLoans       149391 non-null  int64  \n",
      " 7   NumberOfTimes90DaysLate               149391 non-null  int64  \n",
      " 8   NumberRealEstateLoansOrLines          149391 non-null  int64  \n",
      " 9   NumberOfTime60-89DaysPastDueNotWorse  149391 non-null  int64  \n",
      " 10  NumberOfDependents                    145563 non-null  float64\n",
      "dtypes: float64(4), int64(7)\n",
      "memory usage: 12.5 MB\n"
     ]
    }
   ],
   "source": [
    "#3.2.2 填补缺失值\n",
    "data.info()"
   ]
  },
  {
   "cell_type": "code",
   "execution_count": 12,
   "metadata": {},
   "outputs": [
    {
     "data": {
      "text/plain": [
       "SeriousDlqin2yrs                        0.000000\n",
       "RevolvingUtilizationOfUnsecuredLines    0.000000\n",
       "age                                     0.000000\n",
       "NumberOfTime30-59DaysPastDueNotWorse    0.000000\n",
       "DebtRatio                               0.000000\n",
       "MonthlyIncome                           0.195601\n",
       "NumberOfOpenCreditLinesAndLoans         0.000000\n",
       "NumberOfTimes90DaysLate                 0.000000\n",
       "NumberRealEstateLoansOrLines            0.000000\n",
       "NumberOfTime60-89DaysPastDueNotWorse    0.000000\n",
       "NumberOfDependents                      0.025624\n",
       "dtype: float64"
      ]
     },
     "execution_count": 12,
     "metadata": {},
     "output_type": "execute_result"
    }
   ],
   "source": [
    "data.isnull().sum()/data.shape[0]"
   ]
  },
  {
   "cell_type": "code",
   "execution_count": 13,
   "metadata": {},
   "outputs": [
    {
     "data": {
      "text/plain": [
       "SeriousDlqin2yrs                        0.000000\n",
       "RevolvingUtilizationOfUnsecuredLines    0.000000\n",
       "age                                     0.000000\n",
       "NumberOfTime30-59DaysPastDueNotWorse    0.000000\n",
       "DebtRatio                               0.000000\n",
       "MonthlyIncome                           0.195601\n",
       "NumberOfOpenCreditLinesAndLoans         0.000000\n",
       "NumberOfTimes90DaysLate                 0.000000\n",
       "NumberRealEstateLoansOrLines            0.000000\n",
       "NumberOfTime60-89DaysPastDueNotWorse    0.000000\n",
       "NumberOfDependents                      0.025624\n",
       "dtype: float64"
      ]
     },
     "execution_count": 13,
     "metadata": {},
     "output_type": "execute_result"
    }
   ],
   "source": [
    "data.isnull().mean()"
   ]
  },
  {
   "cell_type": "code",
   "execution_count": 14,
   "metadata": {},
   "outputs": [],
   "source": [
    "# 使用均值填补“家属人数”\n",
    "data[\"NumberOfDependents\"].fillna(int(data[\"NumberOfDependents\"].mean()),inplace=True)"
   ]
  },
  {
   "cell_type": "code",
   "execution_count": 15,
   "metadata": {},
   "outputs": [
    {
     "name": "stdout",
     "output_type": "stream",
     "text": [
      "<class 'pandas.core.frame.DataFrame'>\n",
      "RangeIndex: 149391 entries, 0 to 149390\n",
      "Data columns (total 11 columns):\n",
      " #   Column                                Non-Null Count   Dtype  \n",
      "---  ------                                --------------   -----  \n",
      " 0   SeriousDlqin2yrs                      149391 non-null  int64  \n",
      " 1   RevolvingUtilizationOfUnsecuredLines  149391 non-null  float64\n",
      " 2   age                                   149391 non-null  int64  \n",
      " 3   NumberOfTime30-59DaysPastDueNotWorse  149391 non-null  int64  \n",
      " 4   DebtRatio                             149391 non-null  float64\n",
      " 5   MonthlyIncome                         120170 non-null  float64\n",
      " 6   NumberOfOpenCreditLinesAndLoans       149391 non-null  int64  \n",
      " 7   NumberOfTimes90DaysLate               149391 non-null  int64  \n",
      " 8   NumberRealEstateLoansOrLines          149391 non-null  int64  \n",
      " 9   NumberOfTime60-89DaysPastDueNotWorse  149391 non-null  int64  \n",
      " 10  NumberOfDependents                    149391 non-null  float64\n",
      "dtypes: float64(4), int64(7)\n",
      "memory usage: 12.5 MB\n"
     ]
    }
   ],
   "source": [
    "#如果你选择的是删除那些缺失了2.5%的特征，千万记得恢复索引哟~\n",
    "data.info()"
   ]
  },
  {
   "cell_type": "code",
   "execution_count": 16,
   "metadata": {},
   "outputs": [
    {
     "data": {
      "text/plain": [
       "SeriousDlqin2yrs                        0.000000\n",
       "RevolvingUtilizationOfUnsecuredLines    0.000000\n",
       "age                                     0.000000\n",
       "NumberOfTime30-59DaysPastDueNotWorse    0.000000\n",
       "DebtRatio                               0.000000\n",
       "MonthlyIncome                           0.195601\n",
       "NumberOfOpenCreditLinesAndLoans         0.000000\n",
       "NumberOfTimes90DaysLate                 0.000000\n",
       "NumberRealEstateLoansOrLines            0.000000\n",
       "NumberOfTime60-89DaysPastDueNotWorse    0.000000\n",
       "NumberOfDependents                      0.000000\n",
       "dtype: float64"
      ]
     },
     "execution_count": 16,
     "metadata": {},
     "output_type": "execute_result"
    }
   ],
   "source": [
    "data.isnull().sum()/data.shape[0]"
   ]
  },
  {
   "cell_type": "code",
   "execution_count": 17,
   "metadata": {},
   "outputs": [],
   "source": [
    "# 用随机森林填补缺失值\n",
    "def fill_missing_rf(X,y,to_fill):\n",
    "    \"\"\"\n",
    "    使用随机森林填补一个特征的缺失值的函数\n",
    "    参数：\n",
    "    X：要填补的特征矩阵\n",
    "    y：完整的，没有缺失值的标签\n",
    "    to_fill：字符串，要填补的那一列的名称\n",
    "    \"\"\"\n",
    "\n",
    "    #构建我们的新特征矩阵和新标签\n",
    "    df = X.copy()\n",
    "    fill = df.loc[:,to_fill]\n",
    "    df = pd.concat([df.loc[:,df.columns != to_fill],pd.DataFrame(y)],axis=1)\n",
    "    \n",
    "    #找出我们的训练集和测试集\n",
    "    Ytrain = fill[fill.notnull()]\n",
    "    Ytest = fill[fill.isnull()]\n",
    "    Xtrain = df.iloc[Ytrain.index,:]\n",
    "    Xtest = df.iloc[Ytest.index,:]\n",
    "    \n",
    "    #用随机森林回归来填补缺失值\n",
    "    from sklearn.ensemble import RandomForestRegressor as rfr\n",
    "    rfr = rfr(n_estimators=100)\n",
    "    rfr = rfr.fit(Xtrain, Ytrain)\n",
    "    Ypredict = rfr.predict(Xtest)\n",
    "    return Ypredict"
   ]
  },
  {
   "cell_type": "code",
   "execution_count": 18,
   "metadata": {},
   "outputs": [
    {
     "data": {
      "text/plain": [
       "(149391, 10)"
      ]
     },
     "execution_count": 18,
     "metadata": {},
     "output_type": "execute_result"
    }
   ],
   "source": [
    "X = data.iloc[:,1:]\n",
    "y = data[\"SeriousDlqin2yrs\"] \n",
    "X.shape"
   ]
  },
  {
   "cell_type": "code",
   "execution_count": 19,
   "metadata": {},
   "outputs": [],
   "source": [
    "#=====【TIME WARNING：1 min】=====#\n",
    "y_pred = fill_missing_rf(X,y,\"MonthlyIncome\")"
   ]
  },
  {
   "cell_type": "code",
   "execution_count": 20,
   "metadata": {},
   "outputs": [
    {
     "data": {
      "text/plain": [
       "(29221,)"
      ]
     },
     "execution_count": 20,
     "metadata": {},
     "output_type": "execute_result"
    }
   ],
   "source": [
    "y_pred.shape"
   ]
  },
  {
   "cell_type": "code",
   "execution_count": 21,
   "metadata": {},
   "outputs": [
    {
     "data": {
      "text/plain": [
       "(29221,)"
      ]
     },
     "execution_count": 21,
     "metadata": {},
     "output_type": "execute_result"
    }
   ],
   "source": [
    "#确认我们的结果合理之后，我们就可以将数据覆盖了\n",
    "data.loc[data.loc[:,\"MonthlyIncome\"].isnull(),\"MonthlyIncome\"].shape"
   ]
  },
  {
   "cell_type": "code",
   "execution_count": 22,
   "metadata": {},
   "outputs": [],
   "source": [
    "data.loc[data.loc[:,\"MonthlyIncome\"].isnull(),\"MonthlyIncome\"] = y_pred"
   ]
  },
  {
   "cell_type": "code",
   "execution_count": 23,
   "metadata": {},
   "outputs": [
    {
     "name": "stdout",
     "output_type": "stream",
     "text": [
      "<class 'pandas.core.frame.DataFrame'>\n",
      "RangeIndex: 149391 entries, 0 to 149390\n",
      "Data columns (total 11 columns):\n",
      " #   Column                                Non-Null Count   Dtype  \n",
      "---  ------                                --------------   -----  \n",
      " 0   SeriousDlqin2yrs                      149391 non-null  int64  \n",
      " 1   RevolvingUtilizationOfUnsecuredLines  149391 non-null  float64\n",
      " 2   age                                   149391 non-null  int64  \n",
      " 3   NumberOfTime30-59DaysPastDueNotWorse  149391 non-null  int64  \n",
      " 4   DebtRatio                             149391 non-null  float64\n",
      " 5   MonthlyIncome                         149391 non-null  float64\n",
      " 6   NumberOfOpenCreditLinesAndLoans       149391 non-null  int64  \n",
      " 7   NumberOfTimes90DaysLate               149391 non-null  int64  \n",
      " 8   NumberRealEstateLoansOrLines          149391 non-null  int64  \n",
      " 9   NumberOfTime60-89DaysPastDueNotWorse  149391 non-null  int64  \n",
      " 10  NumberOfDependents                    149391 non-null  float64\n",
      "dtypes: float64(4), int64(7)\n",
      "memory usage: 12.5 MB\n"
     ]
    }
   ],
   "source": [
    "data.info()"
   ]
  },
  {
   "cell_type": "code",
   "execution_count": 24,
   "metadata": {},
   "outputs": [
    {
     "data": {
      "text/html": [
       "<div>\n",
       "<style scoped>\n",
       "    .dataframe tbody tr th:only-of-type {\n",
       "        vertical-align: middle;\n",
       "    }\n",
       "\n",
       "    .dataframe tbody tr th {\n",
       "        vertical-align: top;\n",
       "    }\n",
       "\n",
       "    .dataframe thead th {\n",
       "        text-align: right;\n",
       "    }\n",
       "</style>\n",
       "<table border=\"1\" class=\"dataframe\">\n",
       "  <thead>\n",
       "    <tr style=\"text-align: right;\">\n",
       "      <th></th>\n",
       "      <th>count</th>\n",
       "      <th>mean</th>\n",
       "      <th>std</th>\n",
       "      <th>min</th>\n",
       "      <th>1%</th>\n",
       "      <th>10%</th>\n",
       "      <th>25%</th>\n",
       "      <th>50%</th>\n",
       "      <th>75%</th>\n",
       "      <th>90%</th>\n",
       "      <th>99%</th>\n",
       "      <th>max</th>\n",
       "    </tr>\n",
       "  </thead>\n",
       "  <tbody>\n",
       "    <tr>\n",
       "      <th>SeriousDlqin2yrs</th>\n",
       "      <td>149391.0</td>\n",
       "      <td>0.066999</td>\n",
       "      <td>0.250021</td>\n",
       "      <td>0.0</td>\n",
       "      <td>0.0</td>\n",
       "      <td>0.000000</td>\n",
       "      <td>0.000000</td>\n",
       "      <td>0.000000</td>\n",
       "      <td>0.000000</td>\n",
       "      <td>0.000000</td>\n",
       "      <td>1.000000</td>\n",
       "      <td>1.0</td>\n",
       "    </tr>\n",
       "    <tr>\n",
       "      <th>RevolvingUtilizationOfUnsecuredLines</th>\n",
       "      <td>149391.0</td>\n",
       "      <td>6.071087</td>\n",
       "      <td>250.263672</td>\n",
       "      <td>0.0</td>\n",
       "      <td>0.0</td>\n",
       "      <td>0.003199</td>\n",
       "      <td>0.030132</td>\n",
       "      <td>0.154235</td>\n",
       "      <td>0.556494</td>\n",
       "      <td>0.978007</td>\n",
       "      <td>1.093922</td>\n",
       "      <td>50708.0</td>\n",
       "    </tr>\n",
       "    <tr>\n",
       "      <th>age</th>\n",
       "      <td>149391.0</td>\n",
       "      <td>52.306237</td>\n",
       "      <td>14.725962</td>\n",
       "      <td>0.0</td>\n",
       "      <td>24.0</td>\n",
       "      <td>33.000000</td>\n",
       "      <td>41.000000</td>\n",
       "      <td>52.000000</td>\n",
       "      <td>63.000000</td>\n",
       "      <td>72.000000</td>\n",
       "      <td>87.000000</td>\n",
       "      <td>109.0</td>\n",
       "    </tr>\n",
       "    <tr>\n",
       "      <th>NumberOfTime30-59DaysPastDueNotWorse</th>\n",
       "      <td>149391.0</td>\n",
       "      <td>0.393886</td>\n",
       "      <td>3.852953</td>\n",
       "      <td>0.0</td>\n",
       "      <td>0.0</td>\n",
       "      <td>0.000000</td>\n",
       "      <td>0.000000</td>\n",
       "      <td>0.000000</td>\n",
       "      <td>0.000000</td>\n",
       "      <td>1.000000</td>\n",
       "      <td>4.000000</td>\n",
       "      <td>98.0</td>\n",
       "    </tr>\n",
       "    <tr>\n",
       "      <th>DebtRatio</th>\n",
       "      <td>149391.0</td>\n",
       "      <td>354.436740</td>\n",
       "      <td>2041.843455</td>\n",
       "      <td>0.0</td>\n",
       "      <td>0.0</td>\n",
       "      <td>0.034991</td>\n",
       "      <td>0.177441</td>\n",
       "      <td>0.368234</td>\n",
       "      <td>0.875279</td>\n",
       "      <td>1275.000000</td>\n",
       "      <td>4985.100000</td>\n",
       "      <td>329664.0</td>\n",
       "    </tr>\n",
       "    <tr>\n",
       "      <th>MonthlyIncome</th>\n",
       "      <td>149391.0</td>\n",
       "      <td>5423.427592</td>\n",
       "      <td>13243.700674</td>\n",
       "      <td>0.0</td>\n",
       "      <td>0.0</td>\n",
       "      <td>0.170000</td>\n",
       "      <td>1800.000000</td>\n",
       "      <td>4417.363810</td>\n",
       "      <td>7416.000000</td>\n",
       "      <td>10800.000000</td>\n",
       "      <td>23250.000000</td>\n",
       "      <td>3008750.0</td>\n",
       "    </tr>\n",
       "    <tr>\n",
       "      <th>NumberOfOpenCreditLinesAndLoans</th>\n",
       "      <td>149391.0</td>\n",
       "      <td>8.480892</td>\n",
       "      <td>5.136515</td>\n",
       "      <td>0.0</td>\n",
       "      <td>0.0</td>\n",
       "      <td>3.000000</td>\n",
       "      <td>5.000000</td>\n",
       "      <td>8.000000</td>\n",
       "      <td>11.000000</td>\n",
       "      <td>15.000000</td>\n",
       "      <td>24.000000</td>\n",
       "      <td>58.0</td>\n",
       "    </tr>\n",
       "    <tr>\n",
       "      <th>NumberOfTimes90DaysLate</th>\n",
       "      <td>149391.0</td>\n",
       "      <td>0.238120</td>\n",
       "      <td>3.826165</td>\n",
       "      <td>0.0</td>\n",
       "      <td>0.0</td>\n",
       "      <td>0.000000</td>\n",
       "      <td>0.000000</td>\n",
       "      <td>0.000000</td>\n",
       "      <td>0.000000</td>\n",
       "      <td>0.000000</td>\n",
       "      <td>3.000000</td>\n",
       "      <td>98.0</td>\n",
       "    </tr>\n",
       "    <tr>\n",
       "      <th>NumberRealEstateLoansOrLines</th>\n",
       "      <td>149391.0</td>\n",
       "      <td>1.022391</td>\n",
       "      <td>1.130196</td>\n",
       "      <td>0.0</td>\n",
       "      <td>0.0</td>\n",
       "      <td>0.000000</td>\n",
       "      <td>0.000000</td>\n",
       "      <td>1.000000</td>\n",
       "      <td>2.000000</td>\n",
       "      <td>2.000000</td>\n",
       "      <td>4.000000</td>\n",
       "      <td>54.0</td>\n",
       "    </tr>\n",
       "    <tr>\n",
       "      <th>NumberOfTime60-89DaysPastDueNotWorse</th>\n",
       "      <td>149391.0</td>\n",
       "      <td>0.212503</td>\n",
       "      <td>3.810523</td>\n",
       "      <td>0.0</td>\n",
       "      <td>0.0</td>\n",
       "      <td>0.000000</td>\n",
       "      <td>0.000000</td>\n",
       "      <td>0.000000</td>\n",
       "      <td>0.000000</td>\n",
       "      <td>0.000000</td>\n",
       "      <td>2.000000</td>\n",
       "      <td>98.0</td>\n",
       "    </tr>\n",
       "    <tr>\n",
       "      <th>NumberOfDependents</th>\n",
       "      <td>149391.0</td>\n",
       "      <td>0.740393</td>\n",
       "      <td>1.108272</td>\n",
       "      <td>0.0</td>\n",
       "      <td>0.0</td>\n",
       "      <td>0.000000</td>\n",
       "      <td>0.000000</td>\n",
       "      <td>0.000000</td>\n",
       "      <td>1.000000</td>\n",
       "      <td>2.000000</td>\n",
       "      <td>4.000000</td>\n",
       "      <td>20.0</td>\n",
       "    </tr>\n",
       "  </tbody>\n",
       "</table>\n",
       "</div>"
      ],
      "text/plain": [
       "                                         count         mean           std  \\\n",
       "SeriousDlqin2yrs                      149391.0     0.066999      0.250021   \n",
       "RevolvingUtilizationOfUnsecuredLines  149391.0     6.071087    250.263672   \n",
       "age                                   149391.0    52.306237     14.725962   \n",
       "NumberOfTime30-59DaysPastDueNotWorse  149391.0     0.393886      3.852953   \n",
       "DebtRatio                             149391.0   354.436740   2041.843455   \n",
       "MonthlyIncome                         149391.0  5423.427592  13243.700674   \n",
       "NumberOfOpenCreditLinesAndLoans       149391.0     8.480892      5.136515   \n",
       "NumberOfTimes90DaysLate               149391.0     0.238120      3.826165   \n",
       "NumberRealEstateLoansOrLines          149391.0     1.022391      1.130196   \n",
       "NumberOfTime60-89DaysPastDueNotWorse  149391.0     0.212503      3.810523   \n",
       "NumberOfDependents                    149391.0     0.740393      1.108272   \n",
       "\n",
       "                                      min    1%        10%          25%  \\\n",
       "SeriousDlqin2yrs                      0.0   0.0   0.000000     0.000000   \n",
       "RevolvingUtilizationOfUnsecuredLines  0.0   0.0   0.003199     0.030132   \n",
       "age                                   0.0  24.0  33.000000    41.000000   \n",
       "NumberOfTime30-59DaysPastDueNotWorse  0.0   0.0   0.000000     0.000000   \n",
       "DebtRatio                             0.0   0.0   0.034991     0.177441   \n",
       "MonthlyIncome                         0.0   0.0   0.170000  1800.000000   \n",
       "NumberOfOpenCreditLinesAndLoans       0.0   0.0   3.000000     5.000000   \n",
       "NumberOfTimes90DaysLate               0.0   0.0   0.000000     0.000000   \n",
       "NumberRealEstateLoansOrLines          0.0   0.0   0.000000     0.000000   \n",
       "NumberOfTime60-89DaysPastDueNotWorse  0.0   0.0   0.000000     0.000000   \n",
       "NumberOfDependents                    0.0   0.0   0.000000     0.000000   \n",
       "\n",
       "                                              50%          75%           90%  \\\n",
       "SeriousDlqin2yrs                         0.000000     0.000000      0.000000   \n",
       "RevolvingUtilizationOfUnsecuredLines     0.154235     0.556494      0.978007   \n",
       "age                                     52.000000    63.000000     72.000000   \n",
       "NumberOfTime30-59DaysPastDueNotWorse     0.000000     0.000000      1.000000   \n",
       "DebtRatio                                0.368234     0.875279   1275.000000   \n",
       "MonthlyIncome                         4417.363810  7416.000000  10800.000000   \n",
       "NumberOfOpenCreditLinesAndLoans          8.000000    11.000000     15.000000   \n",
       "NumberOfTimes90DaysLate                  0.000000     0.000000      0.000000   \n",
       "NumberRealEstateLoansOrLines             1.000000     2.000000      2.000000   \n",
       "NumberOfTime60-89DaysPastDueNotWorse     0.000000     0.000000      0.000000   \n",
       "NumberOfDependents                       0.000000     1.000000      2.000000   \n",
       "\n",
       "                                               99%        max  \n",
       "SeriousDlqin2yrs                          1.000000        1.0  \n",
       "RevolvingUtilizationOfUnsecuredLines      1.093922    50708.0  \n",
       "age                                      87.000000      109.0  \n",
       "NumberOfTime30-59DaysPastDueNotWorse      4.000000       98.0  \n",
       "DebtRatio                              4985.100000   329664.0  \n",
       "MonthlyIncome                         23250.000000  3008750.0  \n",
       "NumberOfOpenCreditLinesAndLoans          24.000000       58.0  \n",
       "NumberOfTimes90DaysLate                   3.000000       98.0  \n",
       "NumberRealEstateLoansOrLines              4.000000       54.0  \n",
       "NumberOfTime60-89DaysPastDueNotWorse      2.000000       98.0  \n",
       "NumberOfDependents                        4.000000       20.0  "
      ]
     },
     "execution_count": 24,
     "metadata": {},
     "output_type": "execute_result"
    }
   ],
   "source": [
    "#3.2.3 描述性统计处理异常值\n",
    "data.describe([0.01,0.1,0.25,.5,.75,.9,.99]).T"
   ]
  },
  {
   "cell_type": "code",
   "execution_count": 25,
   "metadata": {},
   "outputs": [
    {
     "data": {
      "text/plain": [
       "1"
      ]
     },
     "execution_count": 25,
     "metadata": {},
     "output_type": "execute_result"
    }
   ],
   "source": [
    "#异常值也被我们观察到，年龄的最小值居然有0，这不符合银行的业务需求，即便是儿童账户也要至少8岁，我们可以查看一下年龄为0的人有多少\n",
    "(data[\"age\"] == 0).sum()"
   ]
  },
  {
   "cell_type": "code",
   "execution_count": 26,
   "metadata": {},
   "outputs": [],
   "source": [
    "#发现只有一个人年龄为0，可以判断这肯定是录入失误造成的，可以当成是缺失值来处理，直接删除掉这个样本\n",
    "data = data[data[\"age\"] != 0]"
   ]
  },
  {
   "cell_type": "code",
   "execution_count": 27,
   "metadata": {},
   "outputs": [
    {
     "data": {
      "text/plain": [
       "(149390, 11)"
      ]
     },
     "execution_count": 27,
     "metadata": {},
     "output_type": "execute_result"
    }
   ],
   "source": [
    "data.shape"
   ]
  },
  {
   "cell_type": "code",
   "execution_count": 28,
   "metadata": {},
   "outputs": [
    {
     "data": {
      "text/plain": [
       "SeriousDlqin2yrs                        225\n",
       "RevolvingUtilizationOfUnsecuredLines    225\n",
       "age                                     225\n",
       "NumberOfTime30-59DaysPastDueNotWorse    225\n",
       "DebtRatio                               225\n",
       "MonthlyIncome                           225\n",
       "NumberOfOpenCreditLinesAndLoans         225\n",
       "NumberOfTimes90DaysLate                 225\n",
       "NumberRealEstateLoansOrLines            225\n",
       "NumberOfTime60-89DaysPastDueNotWorse    225\n",
       "NumberOfDependents                      225\n",
       "dtype: int64"
      ]
     },
     "execution_count": 28,
     "metadata": {},
     "output_type": "execute_result"
    }
   ],
   "source": [
    "\"\"\"\n",
    "另外，有三个指标看起来很奇怪：\n",
    "\"NumberOfTime30-59DaysPastDueNotWorse\"\n",
    "\"NumberOfTime60-89DaysPastDueNotWorse\"\n",
    "\"NumberOfTimes90DaysLate\"\n",
    "这三个指标分别是“过去两年内出现35-59天逾期但是没有发展的更坏的次数”，“过去两年内出现60-89天逾期但是没\n",
    "有发展的更坏的次数”,“过去两年内出现90天逾期的次数”。这三个指标，在99%的分布的时候依然是2，最大值却是\n",
    "98，看起来非常奇怪。一个人在过去两年内逾期35~59天98次，一年6个60天，两年内逾期98次这是怎么算出来的？\n",
    "我们可以去咨询业务人员，请教他们这个逾期次数是如何计算的。如果这个指标是正常的，那这些两年内逾期了98次的\n",
    "客户，应该都是坏客户。在我们无法询问他们情况下，我们查看一下有多少个样本存在这种异常：\n",
    "\"\"\"\n",
    "data[data.loc[:,\"NumberOfTimes90DaysLate\"] > 90].count()"
   ]
  },
  {
   "cell_type": "code",
   "execution_count": 29,
   "metadata": {},
   "outputs": [
    {
     "name": "stdout",
     "output_type": "stream",
     "text": [
      "<class 'pandas.core.frame.DataFrame'>\n",
      "RangeIndex: 149165 entries, 0 to 149164\n",
      "Data columns (total 11 columns):\n",
      " #   Column                                Non-Null Count   Dtype  \n",
      "---  ------                                --------------   -----  \n",
      " 0   SeriousDlqin2yrs                      149165 non-null  int64  \n",
      " 1   RevolvingUtilizationOfUnsecuredLines  149165 non-null  float64\n",
      " 2   age                                   149165 non-null  int64  \n",
      " 3   NumberOfTime30-59DaysPastDueNotWorse  149165 non-null  int64  \n",
      " 4   DebtRatio                             149165 non-null  float64\n",
      " 5   MonthlyIncome                         149165 non-null  float64\n",
      " 6   NumberOfOpenCreditLinesAndLoans       149165 non-null  int64  \n",
      " 7   NumberOfTimes90DaysLate               149165 non-null  int64  \n",
      " 8   NumberRealEstateLoansOrLines          149165 non-null  int64  \n",
      " 9   NumberOfTime60-89DaysPastDueNotWorse  149165 non-null  int64  \n",
      " 10  NumberOfDependents                    149165 non-null  float64\n",
      "dtypes: float64(4), int64(7)\n",
      "memory usage: 12.5 MB\n"
     ]
    }
   ],
   "source": [
    "#有225个样本存在这样的情况，并且这些样本，我们观察一下，标签并不都是1，他们并不都是坏客户。因此，我们基本可以判断，这些样本是某种异常，应该把它们删除。\n",
    "data = data[data.loc[:,\"NumberOfTimes90DaysLate\"] < 90] \n",
    "#恢复索引\n",
    "data.index = range(data.shape[0])\n",
    "data.info()"
   ]
  },
  {
   "cell_type": "code",
   "execution_count": 30,
   "metadata": {},
   "outputs": [],
   "source": [
    "#3.2.5 样本不均衡问题\n",
    "#探索标签的分布\n",
    "X = data.iloc[:,1:]\n",
    "y = data.iloc[:,0]"
   ]
  },
  {
   "cell_type": "code",
   "execution_count": 31,
   "metadata": {},
   "outputs": [
    {
     "data": {
      "text/plain": [
       "0    139292\n",
       "1      9873\n",
       "Name: SeriousDlqin2yrs, dtype: int64"
      ]
     },
     "execution_count": 31,
     "metadata": {},
     "output_type": "execute_result"
    }
   ],
   "source": [
    "y.value_counts()"
   ]
  },
  {
   "cell_type": "code",
   "execution_count": 32,
   "metadata": {},
   "outputs": [],
   "source": [
    "n_sample = X.shape[0]"
   ]
  },
  {
   "cell_type": "code",
   "execution_count": 33,
   "metadata": {},
   "outputs": [],
   "source": [
    "n_1_sample = y.value_counts()[1]\n",
    "n_0_sample = y.value_counts()[0]"
   ]
  },
  {
   "cell_type": "code",
   "execution_count": 34,
   "metadata": {},
   "outputs": [
    {
     "name": "stdout",
     "output_type": "stream",
     "text": [
      "样本个数：149165; 1占6.62%; 0占93.38%\n"
     ]
    }
   ],
   "source": [
    "print('样本个数：{}; 1占{:.2%}; 0占{:.2%}'.format(n_sample,n_1_sample/n_sample,n_0_sample/n_sample))"
   ]
  },
  {
   "cell_type": "code",
   "execution_count": 35,
   "metadata": {},
   "outputs": [],
   "source": [
    "#如果报错，就在prompt安装：pip install imblearn\n",
    "import imblearn\n",
    "#imblearn是专门用来处理不平衡数据集的库，在处理样本不均衡问题中性能高过sklearn很多\n",
    "#imblearn里面也是一个个的类，也需要进行实例化，fit拟合，和sklearn用法相似"
   ]
  },
  {
   "cell_type": "code",
   "execution_count": 36,
   "metadata": {},
   "outputs": [],
   "source": [
    "from imblearn.over_sampling import SMOTE"
   ]
  },
  {
   "cell_type": "code",
   "execution_count": 37,
   "metadata": {},
   "outputs": [],
   "source": [
    "sm = SMOTE(random_state=42) #实例化\n",
    "X,y = sm.fit_resample(X,y)"
   ]
  },
  {
   "cell_type": "code",
   "execution_count": 38,
   "metadata": {},
   "outputs": [],
   "source": [
    "n_sample_ = X.shape[0]"
   ]
  },
  {
   "cell_type": "code",
   "execution_count": 39,
   "metadata": {},
   "outputs": [
    {
     "data": {
      "text/plain": [
       "(278584, 10)"
      ]
     },
     "execution_count": 39,
     "metadata": {},
     "output_type": "execute_result"
    }
   ],
   "source": [
    "X.shape"
   ]
  },
  {
   "cell_type": "code",
   "execution_count": 40,
   "metadata": {},
   "outputs": [
    {
     "data": {
      "text/plain": [
       "0         1\n",
       "1         0\n",
       "2         0\n",
       "3         0\n",
       "4         0\n",
       "         ..\n",
       "278579    1\n",
       "278580    1\n",
       "278581    1\n",
       "278582    1\n",
       "278583    1\n",
       "Name: SeriousDlqin2yrs, Length: 278584, dtype: int64"
      ]
     },
     "execution_count": 40,
     "metadata": {},
     "output_type": "execute_result"
    }
   ],
   "source": [
    "y"
   ]
  },
  {
   "cell_type": "code",
   "execution_count": 41,
   "metadata": {},
   "outputs": [
    {
     "data": {
      "text/plain": [
       "1    139292\n",
       "0    139292\n",
       "Name: SeriousDlqin2yrs, dtype: int64"
      ]
     },
     "execution_count": 41,
     "metadata": {},
     "output_type": "execute_result"
    }
   ],
   "source": [
    "pd.Series(y).value_counts()"
   ]
  },
  {
   "cell_type": "code",
   "execution_count": 42,
   "metadata": {},
   "outputs": [],
   "source": [
    "n_1_sample = pd.Series(y).value_counts()[1]\n",
    "n_0_sample = pd.Series(y).value_counts()[0]"
   ]
  },
  {
   "cell_type": "code",
   "execution_count": 43,
   "metadata": {},
   "outputs": [
    {
     "name": "stdout",
     "output_type": "stream",
     "text": [
      "样本个数：278584; 1占50.00%; 0占50.00%\n"
     ]
    }
   ],
   "source": [
    "print('样本个数：{}; 1占{:.2%}; 0占{:.2%}'.format(n_sample_,n_1_sample/n_sample_,n_0_sample/n_sample_))"
   ]
  },
  {
   "cell_type": "code",
   "execution_count": 44,
   "metadata": {},
   "outputs": [],
   "source": [
    "# 3.2.6 分训练集和测试集\n",
    "from sklearn.model_selection import train_test_split\n",
    "X = pd.DataFrame(X) \n",
    "y = pd.DataFrame(y)\n",
    "X_train, X_vali, Y_train, Y_vali = train_test_split(X,y,test_size=0.3,random_state=420)"
   ]
  },
  {
   "cell_type": "code",
   "execution_count": 45,
   "metadata": {},
   "outputs": [],
   "source": [
    "model_data = pd.concat([Y_train, X_train], axis=1)\n",
    "model_data.index = range(model_data.shape[0])\n",
    "model_data.columns = data.columns"
   ]
  },
  {
   "cell_type": "code",
   "execution_count": 46,
   "metadata": {},
   "outputs": [],
   "source": [
    "vali_data = pd.concat([Y_vali, X_vali], axis=1)\n",
    "vali_data.index = range(vali_data.shape[0])\n",
    "vali_data.columns = data.columns"
   ]
  },
  {
   "cell_type": "code",
   "execution_count": 47,
   "metadata": {},
   "outputs": [],
   "source": [
    "model_data.to_csv(r\"H:\\学习小分队\\机器学习\\sklearn学习_jb51\\【机器学习】菜菜的sklearn课堂(1-12全课)\\05逻辑回归与评分卡\\model_data.csv\")\n",
    "vali_data.to_csv(r\"H:\\学习小分队\\机器学习\\sklearn学习_jb51\\【机器学习】菜菜的sklearn课堂(1-12全课)\\05逻辑回归与评分卡\\vali_data.csv\")"
   ]
  },
  {
   "cell_type": "code",
   "execution_count": 48,
   "metadata": {},
   "outputs": [],
   "source": [
    "# 3.3 分箱"
   ]
  },
  {
   "cell_type": "code",
   "execution_count": 49,
   "metadata": {},
   "outputs": [],
   "source": [
    "#dataframe[\"列名\"]#当这个列名存在时，就是索引\n",
    "#当这个列名不存在时，dataframe会自动生成叫做这个列名的一个新的列"
   ]
  },
  {
   "cell_type": "code",
   "execution_count": 50,
   "metadata": {},
   "outputs": [],
   "source": [
    "#3.3.1 等频分箱\n",
    "#按照等频对需要分箱的列进行分箱\n",
    "model_data[\"qcut\"], updown = pd.qcut(model_data[\"age\"], retbins=True, q=20)"
   ]
  },
  {
   "cell_type": "code",
   "execution_count": 51,
   "metadata": {},
   "outputs": [
    {
     "data": {
      "text/plain": [
       "'\\npd.qcut，基于分位数的分箱函数，本质是将连续型变量离散化\\n只能够处理一维数据。返回箱子的上限和下限\\n参数q：要分箱的个数\\n参数retbins=True来要求同时返回结构为索引为样本索引，元素为分到的箱子的Series\\n现在返回两个值：每个样本属于哪个箱子，以及所有箱子的上限和下限\\n'"
      ]
     },
     "execution_count": 51,
     "metadata": {},
     "output_type": "execute_result"
    }
   ],
   "source": [
    "\"\"\"\n",
    "pd.qcut，基于分位数的分箱函数，本质是将连续型变量离散化\n",
    "只能够处理一维数据。返回箱子的上限和下限\n",
    "参数q：要分箱的个数\n",
    "参数retbins=True来要求同时返回结构为索引为样本索引，元素为分到的箱子的Series\n",
    "现在返回两个值：每个样本属于哪个箱子，以及所有箱子的上限和下限\n",
    "\"\"\""
   ]
  },
  {
   "cell_type": "code",
   "execution_count": 52,
   "metadata": {},
   "outputs": [
    {
     "data": {
      "text/html": [
       "<div>\n",
       "<style scoped>\n",
       "    .dataframe tbody tr th:only-of-type {\n",
       "        vertical-align: middle;\n",
       "    }\n",
       "\n",
       "    .dataframe tbody tr th {\n",
       "        vertical-align: top;\n",
       "    }\n",
       "\n",
       "    .dataframe thead th {\n",
       "        text-align: right;\n",
       "    }\n",
       "</style>\n",
       "<table border=\"1\" class=\"dataframe\">\n",
       "  <thead>\n",
       "    <tr style=\"text-align: right;\">\n",
       "      <th></th>\n",
       "      <th>SeriousDlqin2yrs</th>\n",
       "      <th>RevolvingUtilizationOfUnsecuredLines</th>\n",
       "      <th>age</th>\n",
       "      <th>NumberOfTime30-59DaysPastDueNotWorse</th>\n",
       "      <th>DebtRatio</th>\n",
       "      <th>MonthlyIncome</th>\n",
       "      <th>NumberOfOpenCreditLinesAndLoans</th>\n",
       "      <th>NumberOfTimes90DaysLate</th>\n",
       "      <th>NumberRealEstateLoansOrLines</th>\n",
       "      <th>NumberOfTime60-89DaysPastDueNotWorse</th>\n",
       "      <th>NumberOfDependents</th>\n",
       "      <th>qcut</th>\n",
       "    </tr>\n",
       "  </thead>\n",
       "  <tbody>\n",
       "    <tr>\n",
       "      <th>0</th>\n",
       "      <td>0</td>\n",
       "      <td>0.015404</td>\n",
       "      <td>53</td>\n",
       "      <td>0</td>\n",
       "      <td>0.121802</td>\n",
       "      <td>4728.0</td>\n",
       "      <td>5</td>\n",
       "      <td>0</td>\n",
       "      <td>0</td>\n",
       "      <td>0</td>\n",
       "      <td>0.000000</td>\n",
       "      <td>(52.0, 54.0]</td>\n",
       "    </tr>\n",
       "    <tr>\n",
       "      <th>1</th>\n",
       "      <td>0</td>\n",
       "      <td>0.168311</td>\n",
       "      <td>63</td>\n",
       "      <td>0</td>\n",
       "      <td>0.141964</td>\n",
       "      <td>1119.0</td>\n",
       "      <td>5</td>\n",
       "      <td>0</td>\n",
       "      <td>0</td>\n",
       "      <td>0</td>\n",
       "      <td>0.000000</td>\n",
       "      <td>(61.0, 64.0]</td>\n",
       "    </tr>\n",
       "    <tr>\n",
       "      <th>2</th>\n",
       "      <td>1</td>\n",
       "      <td>1.063570</td>\n",
       "      <td>39</td>\n",
       "      <td>1</td>\n",
       "      <td>0.417663</td>\n",
       "      <td>3500.0</td>\n",
       "      <td>5</td>\n",
       "      <td>1</td>\n",
       "      <td>0</td>\n",
       "      <td>2</td>\n",
       "      <td>3.716057</td>\n",
       "      <td>(36.0, 39.0]</td>\n",
       "    </tr>\n",
       "    <tr>\n",
       "      <th>3</th>\n",
       "      <td>0</td>\n",
       "      <td>0.088684</td>\n",
       "      <td>73</td>\n",
       "      <td>0</td>\n",
       "      <td>0.522822</td>\n",
       "      <td>5301.0</td>\n",
       "      <td>11</td>\n",
       "      <td>0</td>\n",
       "      <td>2</td>\n",
       "      <td>0</td>\n",
       "      <td>0.000000</td>\n",
       "      <td>(68.0, 74.0]</td>\n",
       "    </tr>\n",
       "    <tr>\n",
       "      <th>4</th>\n",
       "      <td>1</td>\n",
       "      <td>0.622999</td>\n",
       "      <td>53</td>\n",
       "      <td>0</td>\n",
       "      <td>0.423650</td>\n",
       "      <td>13000.0</td>\n",
       "      <td>9</td>\n",
       "      <td>0</td>\n",
       "      <td>2</td>\n",
       "      <td>0</td>\n",
       "      <td>0.181999</td>\n",
       "      <td>(52.0, 54.0]</td>\n",
       "    </tr>\n",
       "  </tbody>\n",
       "</table>\n",
       "</div>"
      ],
      "text/plain": [
       "   SeriousDlqin2yrs  RevolvingUtilizationOfUnsecuredLines  age  \\\n",
       "0                 0                              0.015404   53   \n",
       "1                 0                              0.168311   63   \n",
       "2                 1                              1.063570   39   \n",
       "3                 0                              0.088684   73   \n",
       "4                 1                              0.622999   53   \n",
       "\n",
       "   NumberOfTime30-59DaysPastDueNotWorse  DebtRatio  MonthlyIncome  \\\n",
       "0                                     0   0.121802         4728.0   \n",
       "1                                     0   0.141964         1119.0   \n",
       "2                                     1   0.417663         3500.0   \n",
       "3                                     0   0.522822         5301.0   \n",
       "4                                     0   0.423650        13000.0   \n",
       "\n",
       "   NumberOfOpenCreditLinesAndLoans  NumberOfTimes90DaysLate  \\\n",
       "0                                5                        0   \n",
       "1                                5                        0   \n",
       "2                                5                        1   \n",
       "3                               11                        0   \n",
       "4                                9                        0   \n",
       "\n",
       "   NumberRealEstateLoansOrLines  NumberOfTime60-89DaysPastDueNotWorse  \\\n",
       "0                             0                                     0   \n",
       "1                             0                                     0   \n",
       "2                             0                                     2   \n",
       "3                             2                                     0   \n",
       "4                             2                                     0   \n",
       "\n",
       "   NumberOfDependents          qcut  \n",
       "0            0.000000  (52.0, 54.0]  \n",
       "1            0.000000  (61.0, 64.0]  \n",
       "2            3.716057  (36.0, 39.0]  \n",
       "3            0.000000  (68.0, 74.0]  \n",
       "4            0.181999  (52.0, 54.0]  "
      ]
     },
     "execution_count": 52,
     "metadata": {},
     "output_type": "execute_result"
    }
   ],
   "source": [
    "model_data.head()"
   ]
  },
  {
   "cell_type": "code",
   "execution_count": 53,
   "metadata": {},
   "outputs": [
    {
     "data": {
      "text/plain": [
       "0         (52.0, 54.0]\n",
       "1         (61.0, 64.0]\n",
       "2         (36.0, 39.0]\n",
       "3         (68.0, 74.0]\n",
       "4         (52.0, 54.0]\n",
       "              ...     \n",
       "195003    (31.0, 34.0]\n",
       "195004    (48.0, 50.0]\n",
       "195005    (45.0, 46.0]\n",
       "195006    (61.0, 64.0]\n",
       "195007    (52.0, 54.0]\n",
       "Name: qcut, Length: 195008, dtype: category\n",
       "Categories (20, interval[float64]): [(20.999, 28.0] < (28.0, 31.0] < (31.0, 34.0] < (34.0, 36.0] ... (61.0, 64.0] < (64.0, 68.0] < (68.0, 74.0] < (74.0, 107.0]]"
      ]
     },
     "execution_count": 53,
     "metadata": {},
     "output_type": "execute_result"
    }
   ],
   "source": [
    "#在这里时让model_data新添加一列叫做“分箱”，这一列其实就是每个样本所对应的箱子\n",
    "model_data[\"qcut\"] "
   ]
  },
  {
   "cell_type": "code",
   "execution_count": 54,
   "metadata": {},
   "outputs": [
    {
     "data": {
      "text/plain": [
       "array([ 21.,  28.,  31.,  34.,  36.,  39.,  41.,  43.,  45.,  46.,  48.,\n",
       "        50.,  52.,  54.,  56.,  58.,  61.,  64.,  68.,  74., 107.])"
      ]
     },
     "execution_count": 54,
     "metadata": {},
     "output_type": "execute_result"
    }
   ],
   "source": [
    "#所有箱子的上限和下限\n",
    "updown"
   ]
  },
  {
   "cell_type": "code",
   "execution_count": 55,
   "metadata": {},
   "outputs": [],
   "source": [
    "# 统计每个分箱中0和1的数量\n",
    "# 这里使用了数据透视表的功能groupby 请按照qcut聚合每个组下面有多少个数值\n",
    "coount_y0 = model_data[model_data[\"SeriousDlqin2yrs\"] == 0].groupby(by=\"qcut\").count()[\"SeriousDlqin2yrs\"]\n",
    "coount_y1 = model_data[model_data[\"SeriousDlqin2yrs\"] == 1].groupby(by=\"qcut\").count()[\"SeriousDlqin2yrs\"]"
   ]
  },
  {
   "cell_type": "code",
   "execution_count": 56,
   "metadata": {},
   "outputs": [],
   "source": [
    "#num_bins值分别为每个区间的上界，下界，0出现的次数，1出现的次数\n",
    "num_bins = [*zip(updown,updown[1:],coount_y0,coount_y1)]"
   ]
  },
  {
   "cell_type": "code",
   "execution_count": 57,
   "metadata": {},
   "outputs": [
    {
     "data": {
      "text/plain": [
       "[(21.0, 28.0),\n",
       " (28.0, 31.0),\n",
       " (31.0, 34.0),\n",
       " (34.0, 36.0),\n",
       " (36.0, 39.0),\n",
       " (39.0, 41.0),\n",
       " (41.0, 43.0),\n",
       " (43.0, 45.0),\n",
       " (45.0, 46.0),\n",
       " (46.0, 48.0),\n",
       " (48.0, 50.0),\n",
       " (50.0, 52.0),\n",
       " (52.0, 54.0),\n",
       " (54.0, 56.0),\n",
       " (56.0, 58.0),\n",
       " (58.0, 61.0),\n",
       " (61.0, 64.0),\n",
       " (64.0, 68.0),\n",
       " (68.0, 74.0),\n",
       " (74.0, 107.0)]"
      ]
     },
     "execution_count": 57,
     "metadata": {},
     "output_type": "execute_result"
    }
   ],
   "source": [
    "[*zip(updown,updown[1:])]"
   ]
  },
  {
   "cell_type": "code",
   "execution_count": 58,
   "metadata": {},
   "outputs": [
    {
     "data": {
      "text/plain": [
       "[(21.0, 28.0, 4243, 7555),\n",
       " (28.0, 31.0, 3571, 5940),\n",
       " (31.0, 34.0, 4075, 6780),\n",
       " (34.0, 36.0, 2908, 4571),\n",
       " (36.0, 39.0, 5182, 7472),\n",
       " (39.0, 41.0, 3956, 5811),\n",
       " (41.0, 43.0, 4002, 5711),\n",
       " (43.0, 45.0, 4389, 5968),\n",
       " (45.0, 46.0, 2419, 3284),\n",
       " (46.0, 48.0, 4813, 6166),\n",
       " (48.0, 50.0, 4900, 6201),\n",
       " (50.0, 52.0, 4728, 5787),\n",
       " (52.0, 54.0, 4681, 5033),\n",
       " (54.0, 56.0, 4677, 4012),\n",
       " (56.0, 58.0, 4483, 3406),\n",
       " (58.0, 61.0, 6583, 4782),\n",
       " (61.0, 64.0, 6968, 3225),\n",
       " (64.0, 68.0, 6623, 2318),\n",
       " (68.0, 74.0, 6753, 1920),\n",
       " (74.0, 107.0, 7737, 1375)]"
      ]
     },
     "execution_count": 58,
     "metadata": {},
     "output_type": "execute_result"
    }
   ],
   "source": [
    "#注意zip会按照最短列来进行结合\n",
    "num_bins"
   ]
  },
  {
   "cell_type": "code",
   "execution_count": 59,
   "metadata": {},
   "outputs": [],
   "source": [
    "# 3.3.2【选学】 确保每个箱中都有0和1\n",
    "for i in range(20):\n",
    "    #如果第一个组没有包含正样本或负样本，向后合并\n",
    "    if 0 in num_bins[0][2:]:\n",
    "        num_bins[0:2] = [(\n",
    "            num_bins[0][0],\n",
    "            num_bins[1][1],\n",
    "            num_bins[0][2]+num_bins[1][2],\n",
    "            num_bins[0][3]+num_bins[1][3])]\n",
    "        continue\n",
    "    \"\"\"\n",
    "   合并了之后，第一行的组是否一定有两种样本了呢？不一定\n",
    "   如果原本的第一组和第二组都没有包含正样本，或者都没有包含负样本，那即便合并之后，第一行的组也还是没有\n",
    "包含两种样本\n",
    "   所以我们在每次合并完毕之后，还需要再检查，第一组是否已经包含了两种样本\n",
    "   这里使用continue跳出了本次循环，开始下一次循环，所以回到了最开始的for i in range(20), 让i+1\n",
    "   这就跳过了下面的代码，又从头开始检查，第一组是否包含了两种样本\n",
    "   如果第一组中依然没有包含两种样本，则if通过，继续合并，每合并一次就会循环检查一次，最多合并20次\n",
    "   如果第一组中已经包含两种样本，则if不通过，就开始执行下面的代码\n",
    "   \"\"\"\n",
    "    \n",
    "    #已经确认第一组中肯定包含两种样本了，如果其他组没有包含两种样本，就向前合并\n",
    "    #此时的num_bins已经被上面的代码处理过，可能被合并过，也可能没有被合并\n",
    "    #但无论如何，我们要在num_bins中遍历，所以写成in range(len(num_bins))\n",
    "    for i in range(len(num_bins)):\n",
    "        if 0 in num_bins[i][2:]:\n",
    "            num_bins[i-1:i+1] = [(\n",
    "                num_bins[i-1][0],\n",
    "                num_bins[i][1],\n",
    "                num_bins[i-1][2]+num_bins[i][2],\n",
    "                num_bins[i-1][3]+num_bins[i][3])]\n",
    "            break\n",
    "        #如果对第一组和对后面所有组的判断中，都没有进入if去合并，则提前结束所有的循环\n",
    "        else:\n",
    "            break"
   ]
  },
  {
   "cell_type": "code",
   "execution_count": 60,
   "metadata": {},
   "outputs": [
    {
     "data": {
      "text/html": [
       "<div>\n",
       "<style scoped>\n",
       "    .dataframe tbody tr th:only-of-type {\n",
       "        vertical-align: middle;\n",
       "    }\n",
       "\n",
       "    .dataframe tbody tr th {\n",
       "        vertical-align: top;\n",
       "    }\n",
       "\n",
       "    .dataframe thead th {\n",
       "        text-align: right;\n",
       "    }\n",
       "</style>\n",
       "<table border=\"1\" class=\"dataframe\">\n",
       "  <thead>\n",
       "    <tr style=\"text-align: right;\">\n",
       "      <th></th>\n",
       "      <th>min</th>\n",
       "      <th>max</th>\n",
       "      <th>count_0</th>\n",
       "      <th>count_1</th>\n",
       "    </tr>\n",
       "  </thead>\n",
       "  <tbody>\n",
       "    <tr>\n",
       "      <th>0</th>\n",
       "      <td>21.0</td>\n",
       "      <td>28.0</td>\n",
       "      <td>4243</td>\n",
       "      <td>7555</td>\n",
       "    </tr>\n",
       "    <tr>\n",
       "      <th>1</th>\n",
       "      <td>28.0</td>\n",
       "      <td>31.0</td>\n",
       "      <td>3571</td>\n",
       "      <td>5940</td>\n",
       "    </tr>\n",
       "    <tr>\n",
       "      <th>2</th>\n",
       "      <td>31.0</td>\n",
       "      <td>34.0</td>\n",
       "      <td>4075</td>\n",
       "      <td>6780</td>\n",
       "    </tr>\n",
       "    <tr>\n",
       "      <th>3</th>\n",
       "      <td>34.0</td>\n",
       "      <td>36.0</td>\n",
       "      <td>2908</td>\n",
       "      <td>4571</td>\n",
       "    </tr>\n",
       "    <tr>\n",
       "      <th>4</th>\n",
       "      <td>36.0</td>\n",
       "      <td>39.0</td>\n",
       "      <td>5182</td>\n",
       "      <td>7472</td>\n",
       "    </tr>\n",
       "    <tr>\n",
       "      <th>5</th>\n",
       "      <td>39.0</td>\n",
       "      <td>41.0</td>\n",
       "      <td>3956</td>\n",
       "      <td>5811</td>\n",
       "    </tr>\n",
       "    <tr>\n",
       "      <th>6</th>\n",
       "      <td>41.0</td>\n",
       "      <td>43.0</td>\n",
       "      <td>4002</td>\n",
       "      <td>5711</td>\n",
       "    </tr>\n",
       "    <tr>\n",
       "      <th>7</th>\n",
       "      <td>43.0</td>\n",
       "      <td>45.0</td>\n",
       "      <td>4389</td>\n",
       "      <td>5968</td>\n",
       "    </tr>\n",
       "    <tr>\n",
       "      <th>8</th>\n",
       "      <td>45.0</td>\n",
       "      <td>46.0</td>\n",
       "      <td>2419</td>\n",
       "      <td>3284</td>\n",
       "    </tr>\n",
       "    <tr>\n",
       "      <th>9</th>\n",
       "      <td>46.0</td>\n",
       "      <td>48.0</td>\n",
       "      <td>4813</td>\n",
       "      <td>6166</td>\n",
       "    </tr>\n",
       "    <tr>\n",
       "      <th>10</th>\n",
       "      <td>48.0</td>\n",
       "      <td>50.0</td>\n",
       "      <td>4900</td>\n",
       "      <td>6201</td>\n",
       "    </tr>\n",
       "    <tr>\n",
       "      <th>11</th>\n",
       "      <td>50.0</td>\n",
       "      <td>52.0</td>\n",
       "      <td>4728</td>\n",
       "      <td>5787</td>\n",
       "    </tr>\n",
       "    <tr>\n",
       "      <th>12</th>\n",
       "      <td>52.0</td>\n",
       "      <td>54.0</td>\n",
       "      <td>4681</td>\n",
       "      <td>5033</td>\n",
       "    </tr>\n",
       "    <tr>\n",
       "      <th>13</th>\n",
       "      <td>54.0</td>\n",
       "      <td>56.0</td>\n",
       "      <td>4677</td>\n",
       "      <td>4012</td>\n",
       "    </tr>\n",
       "    <tr>\n",
       "      <th>14</th>\n",
       "      <td>56.0</td>\n",
       "      <td>58.0</td>\n",
       "      <td>4483</td>\n",
       "      <td>3406</td>\n",
       "    </tr>\n",
       "    <tr>\n",
       "      <th>15</th>\n",
       "      <td>58.0</td>\n",
       "      <td>61.0</td>\n",
       "      <td>6583</td>\n",
       "      <td>4782</td>\n",
       "    </tr>\n",
       "    <tr>\n",
       "      <th>16</th>\n",
       "      <td>61.0</td>\n",
       "      <td>64.0</td>\n",
       "      <td>6968</td>\n",
       "      <td>3225</td>\n",
       "    </tr>\n",
       "    <tr>\n",
       "      <th>17</th>\n",
       "      <td>64.0</td>\n",
       "      <td>68.0</td>\n",
       "      <td>6623</td>\n",
       "      <td>2318</td>\n",
       "    </tr>\n",
       "    <tr>\n",
       "      <th>18</th>\n",
       "      <td>68.0</td>\n",
       "      <td>74.0</td>\n",
       "      <td>6753</td>\n",
       "      <td>1920</td>\n",
       "    </tr>\n",
       "    <tr>\n",
       "      <th>19</th>\n",
       "      <td>74.0</td>\n",
       "      <td>107.0</td>\n",
       "      <td>7737</td>\n",
       "      <td>1375</td>\n",
       "    </tr>\n",
       "  </tbody>\n",
       "</table>\n",
       "</div>"
      ],
      "text/plain": [
       "     min    max  count_0  count_1\n",
       "0   21.0   28.0     4243     7555\n",
       "1   28.0   31.0     3571     5940\n",
       "2   31.0   34.0     4075     6780\n",
       "3   34.0   36.0     2908     4571\n",
       "4   36.0   39.0     5182     7472\n",
       "5   39.0   41.0     3956     5811\n",
       "6   41.0   43.0     4002     5711\n",
       "7   43.0   45.0     4389     5968\n",
       "8   45.0   46.0     2419     3284\n",
       "9   46.0   48.0     4813     6166\n",
       "10  48.0   50.0     4900     6201\n",
       "11  50.0   52.0     4728     5787\n",
       "12  52.0   54.0     4681     5033\n",
       "13  54.0   56.0     4677     4012\n",
       "14  56.0   58.0     4483     3406\n",
       "15  58.0   61.0     6583     4782\n",
       "16  61.0   64.0     6968     3225\n",
       "17  64.0   68.0     6623     2318\n",
       "18  68.0   74.0     6753     1920\n",
       "19  74.0  107.0     7737     1375"
      ]
     },
     "execution_count": 60,
     "metadata": {},
     "output_type": "execute_result"
    }
   ],
   "source": [
    "#计算WOE和BAD RATE\n",
    "columns = [\"min\",\"max\",\"count_0\",\"count_1\"]\n",
    "df = pd.DataFrame(num_bins,columns=columns)\n",
    "df"
   ]
  },
  {
   "cell_type": "code",
   "execution_count": 61,
   "metadata": {},
   "outputs": [
    {
     "data": {
      "text/html": [
       "<div>\n",
       "<style scoped>\n",
       "    .dataframe tbody tr th:only-of-type {\n",
       "        vertical-align: middle;\n",
       "    }\n",
       "\n",
       "    .dataframe tbody tr th {\n",
       "        vertical-align: top;\n",
       "    }\n",
       "\n",
       "    .dataframe thead th {\n",
       "        text-align: right;\n",
       "    }\n",
       "</style>\n",
       "<table border=\"1\" class=\"dataframe\">\n",
       "  <thead>\n",
       "    <tr style=\"text-align: right;\">\n",
       "      <th></th>\n",
       "      <th>min</th>\n",
       "      <th>max</th>\n",
       "      <th>count_0</th>\n",
       "      <th>count_1</th>\n",
       "      <th>total</th>\n",
       "      <th>percentage</th>\n",
       "      <th>bad_rate</th>\n",
       "      <th>good%</th>\n",
       "      <th>bad%</th>\n",
       "      <th>woe</th>\n",
       "    </tr>\n",
       "  </thead>\n",
       "  <tbody>\n",
       "    <tr>\n",
       "      <th>0</th>\n",
       "      <td>21.0</td>\n",
       "      <td>28.0</td>\n",
       "      <td>4243</td>\n",
       "      <td>7555</td>\n",
       "      <td>11798</td>\n",
       "      <td>0.060500</td>\n",
       "      <td>0.640363</td>\n",
       "      <td>0.043433</td>\n",
       "      <td>0.077633</td>\n",
       "      <td>-0.580775</td>\n",
       "    </tr>\n",
       "    <tr>\n",
       "      <th>1</th>\n",
       "      <td>28.0</td>\n",
       "      <td>31.0</td>\n",
       "      <td>3571</td>\n",
       "      <td>5940</td>\n",
       "      <td>9511</td>\n",
       "      <td>0.048772</td>\n",
       "      <td>0.624540</td>\n",
       "      <td>0.036554</td>\n",
       "      <td>0.061038</td>\n",
       "      <td>-0.512699</td>\n",
       "    </tr>\n",
       "    <tr>\n",
       "      <th>2</th>\n",
       "      <td>31.0</td>\n",
       "      <td>34.0</td>\n",
       "      <td>4075</td>\n",
       "      <td>6780</td>\n",
       "      <td>10855</td>\n",
       "      <td>0.055664</td>\n",
       "      <td>0.624597</td>\n",
       "      <td>0.041713</td>\n",
       "      <td>0.069669</td>\n",
       "      <td>-0.512942</td>\n",
       "    </tr>\n",
       "    <tr>\n",
       "      <th>3</th>\n",
       "      <td>34.0</td>\n",
       "      <td>36.0</td>\n",
       "      <td>2908</td>\n",
       "      <td>4571</td>\n",
       "      <td>7479</td>\n",
       "      <td>0.038352</td>\n",
       "      <td>0.611178</td>\n",
       "      <td>0.029767</td>\n",
       "      <td>0.046970</td>\n",
       "      <td>-0.456102</td>\n",
       "    </tr>\n",
       "    <tr>\n",
       "      <th>4</th>\n",
       "      <td>36.0</td>\n",
       "      <td>39.0</td>\n",
       "      <td>5182</td>\n",
       "      <td>7472</td>\n",
       "      <td>12654</td>\n",
       "      <td>0.064890</td>\n",
       "      <td>0.590485</td>\n",
       "      <td>0.053045</td>\n",
       "      <td>0.076780</td>\n",
       "      <td>-0.369807</td>\n",
       "    </tr>\n",
       "    <tr>\n",
       "      <th>5</th>\n",
       "      <td>39.0</td>\n",
       "      <td>41.0</td>\n",
       "      <td>3956</td>\n",
       "      <td>5811</td>\n",
       "      <td>9767</td>\n",
       "      <td>0.050085</td>\n",
       "      <td>0.594963</td>\n",
       "      <td>0.040495</td>\n",
       "      <td>0.059712</td>\n",
       "      <td>-0.388355</td>\n",
       "    </tr>\n",
       "    <tr>\n",
       "      <th>6</th>\n",
       "      <td>41.0</td>\n",
       "      <td>43.0</td>\n",
       "      <td>4002</td>\n",
       "      <td>5711</td>\n",
       "      <td>9713</td>\n",
       "      <td>0.049808</td>\n",
       "      <td>0.587975</td>\n",
       "      <td>0.040966</td>\n",
       "      <td>0.058685</td>\n",
       "      <td>-0.359436</td>\n",
       "    </tr>\n",
       "    <tr>\n",
       "      <th>7</th>\n",
       "      <td>43.0</td>\n",
       "      <td>45.0</td>\n",
       "      <td>4389</td>\n",
       "      <td>5968</td>\n",
       "      <td>10357</td>\n",
       "      <td>0.053111</td>\n",
       "      <td>0.576229</td>\n",
       "      <td>0.044927</td>\n",
       "      <td>0.061325</td>\n",
       "      <td>-0.311146</td>\n",
       "    </tr>\n",
       "    <tr>\n",
       "      <th>8</th>\n",
       "      <td>45.0</td>\n",
       "      <td>46.0</td>\n",
       "      <td>2419</td>\n",
       "      <td>3284</td>\n",
       "      <td>5703</td>\n",
       "      <td>0.029245</td>\n",
       "      <td>0.575837</td>\n",
       "      <td>0.024762</td>\n",
       "      <td>0.033745</td>\n",
       "      <td>-0.309544</td>\n",
       "    </tr>\n",
       "    <tr>\n",
       "      <th>9</th>\n",
       "      <td>46.0</td>\n",
       "      <td>48.0</td>\n",
       "      <td>4813</td>\n",
       "      <td>6166</td>\n",
       "      <td>10979</td>\n",
       "      <td>0.056300</td>\n",
       "      <td>0.561618</td>\n",
       "      <td>0.049268</td>\n",
       "      <td>0.063360</td>\n",
       "      <td>-0.251565</td>\n",
       "    </tr>\n",
       "    <tr>\n",
       "      <th>10</th>\n",
       "      <td>48.0</td>\n",
       "      <td>50.0</td>\n",
       "      <td>4900</td>\n",
       "      <td>6201</td>\n",
       "      <td>11101</td>\n",
       "      <td>0.056926</td>\n",
       "      <td>0.558598</td>\n",
       "      <td>0.050158</td>\n",
       "      <td>0.063720</td>\n",
       "      <td>-0.239311</td>\n",
       "    </tr>\n",
       "    <tr>\n",
       "      <th>11</th>\n",
       "      <td>50.0</td>\n",
       "      <td>52.0</td>\n",
       "      <td>4728</td>\n",
       "      <td>5787</td>\n",
       "      <td>10515</td>\n",
       "      <td>0.053921</td>\n",
       "      <td>0.550357</td>\n",
       "      <td>0.048397</td>\n",
       "      <td>0.059465</td>\n",
       "      <td>-0.205947</td>\n",
       "    </tr>\n",
       "    <tr>\n",
       "      <th>12</th>\n",
       "      <td>52.0</td>\n",
       "      <td>54.0</td>\n",
       "      <td>4681</td>\n",
       "      <td>5033</td>\n",
       "      <td>9714</td>\n",
       "      <td>0.049813</td>\n",
       "      <td>0.518118</td>\n",
       "      <td>0.047916</td>\n",
       "      <td>0.051718</td>\n",
       "      <td>-0.076340</td>\n",
       "    </tr>\n",
       "    <tr>\n",
       "      <th>13</th>\n",
       "      <td>54.0</td>\n",
       "      <td>56.0</td>\n",
       "      <td>4677</td>\n",
       "      <td>4012</td>\n",
       "      <td>8689</td>\n",
       "      <td>0.044557</td>\n",
       "      <td>0.461733</td>\n",
       "      <td>0.047875</td>\n",
       "      <td>0.041226</td>\n",
       "      <td>0.149531</td>\n",
       "    </tr>\n",
       "    <tr>\n",
       "      <th>14</th>\n",
       "      <td>56.0</td>\n",
       "      <td>58.0</td>\n",
       "      <td>4483</td>\n",
       "      <td>3406</td>\n",
       "      <td>7889</td>\n",
       "      <td>0.040455</td>\n",
       "      <td>0.431740</td>\n",
       "      <td>0.045890</td>\n",
       "      <td>0.034999</td>\n",
       "      <td>0.270918</td>\n",
       "    </tr>\n",
       "    <tr>\n",
       "      <th>15</th>\n",
       "      <td>58.0</td>\n",
       "      <td>61.0</td>\n",
       "      <td>6583</td>\n",
       "      <td>4782</td>\n",
       "      <td>11365</td>\n",
       "      <td>0.058280</td>\n",
       "      <td>0.420766</td>\n",
       "      <td>0.067386</td>\n",
       "      <td>0.049138</td>\n",
       "      <td>0.315796</td>\n",
       "    </tr>\n",
       "    <tr>\n",
       "      <th>16</th>\n",
       "      <td>61.0</td>\n",
       "      <td>64.0</td>\n",
       "      <td>6968</td>\n",
       "      <td>3225</td>\n",
       "      <td>10193</td>\n",
       "      <td>0.052270</td>\n",
       "      <td>0.316394</td>\n",
       "      <td>0.071327</td>\n",
       "      <td>0.033139</td>\n",
       "      <td>0.766560</td>\n",
       "    </tr>\n",
       "    <tr>\n",
       "      <th>17</th>\n",
       "      <td>64.0</td>\n",
       "      <td>68.0</td>\n",
       "      <td>6623</td>\n",
       "      <td>2318</td>\n",
       "      <td>8941</td>\n",
       "      <td>0.045849</td>\n",
       "      <td>0.259255</td>\n",
       "      <td>0.067795</td>\n",
       "      <td>0.023819</td>\n",
       "      <td>1.046008</td>\n",
       "    </tr>\n",
       "    <tr>\n",
       "      <th>18</th>\n",
       "      <td>68.0</td>\n",
       "      <td>74.0</td>\n",
       "      <td>6753</td>\n",
       "      <td>1920</td>\n",
       "      <td>8673</td>\n",
       "      <td>0.044475</td>\n",
       "      <td>0.221377</td>\n",
       "      <td>0.069126</td>\n",
       "      <td>0.019729</td>\n",
       "      <td>1.253826</td>\n",
       "    </tr>\n",
       "    <tr>\n",
       "      <th>19</th>\n",
       "      <td>74.0</td>\n",
       "      <td>107.0</td>\n",
       "      <td>7737</td>\n",
       "      <td>1375</td>\n",
       "      <td>9112</td>\n",
       "      <td>0.046726</td>\n",
       "      <td>0.150900</td>\n",
       "      <td>0.079199</td>\n",
       "      <td>0.014129</td>\n",
       "      <td>1.723725</td>\n",
       "    </tr>\n",
       "  </tbody>\n",
       "</table>\n",
       "</div>"
      ],
      "text/plain": [
       "     min    max  count_0  count_1  total  percentage  bad_rate     good%  \\\n",
       "0   21.0   28.0     4243     7555  11798    0.060500  0.640363  0.043433   \n",
       "1   28.0   31.0     3571     5940   9511    0.048772  0.624540  0.036554   \n",
       "2   31.0   34.0     4075     6780  10855    0.055664  0.624597  0.041713   \n",
       "3   34.0   36.0     2908     4571   7479    0.038352  0.611178  0.029767   \n",
       "4   36.0   39.0     5182     7472  12654    0.064890  0.590485  0.053045   \n",
       "5   39.0   41.0     3956     5811   9767    0.050085  0.594963  0.040495   \n",
       "6   41.0   43.0     4002     5711   9713    0.049808  0.587975  0.040966   \n",
       "7   43.0   45.0     4389     5968  10357    0.053111  0.576229  0.044927   \n",
       "8   45.0   46.0     2419     3284   5703    0.029245  0.575837  0.024762   \n",
       "9   46.0   48.0     4813     6166  10979    0.056300  0.561618  0.049268   \n",
       "10  48.0   50.0     4900     6201  11101    0.056926  0.558598  0.050158   \n",
       "11  50.0   52.0     4728     5787  10515    0.053921  0.550357  0.048397   \n",
       "12  52.0   54.0     4681     5033   9714    0.049813  0.518118  0.047916   \n",
       "13  54.0   56.0     4677     4012   8689    0.044557  0.461733  0.047875   \n",
       "14  56.0   58.0     4483     3406   7889    0.040455  0.431740  0.045890   \n",
       "15  58.0   61.0     6583     4782  11365    0.058280  0.420766  0.067386   \n",
       "16  61.0   64.0     6968     3225  10193    0.052270  0.316394  0.071327   \n",
       "17  64.0   68.0     6623     2318   8941    0.045849  0.259255  0.067795   \n",
       "18  68.0   74.0     6753     1920   8673    0.044475  0.221377  0.069126   \n",
       "19  74.0  107.0     7737     1375   9112    0.046726  0.150900  0.079199   \n",
       "\n",
       "        bad%       woe  \n",
       "0   0.077633 -0.580775  \n",
       "1   0.061038 -0.512699  \n",
       "2   0.069669 -0.512942  \n",
       "3   0.046970 -0.456102  \n",
       "4   0.076780 -0.369807  \n",
       "5   0.059712 -0.388355  \n",
       "6   0.058685 -0.359436  \n",
       "7   0.061325 -0.311146  \n",
       "8   0.033745 -0.309544  \n",
       "9   0.063360 -0.251565  \n",
       "10  0.063720 -0.239311  \n",
       "11  0.059465 -0.205947  \n",
       "12  0.051718 -0.076340  \n",
       "13  0.041226  0.149531  \n",
       "14  0.034999  0.270918  \n",
       "15  0.049138  0.315796  \n",
       "16  0.033139  0.766560  \n",
       "17  0.023819  1.046008  \n",
       "18  0.019729  1.253826  \n",
       "19  0.014129  1.723725  "
      ]
     },
     "execution_count": 61,
     "metadata": {},
     "output_type": "execute_result"
    }
   ],
   "source": [
    "df[\"total\"] = df.count_0 + df.count_1 #一个箱子中所有样本数 \n",
    "df[\"percentage\"] = df.total / df.total.sum() #一个箱子中的样本数占所有样本数的比例\n",
    "df[\"bad_rate\"] = df.count_1 / df.total\n",
    "\n",
    "df[\"good%\"] = df.count_0/df.count_0.sum()\n",
    "\n",
    "df[\"bad%\"] = df.count_1/df.count_1.sum()\n",
    "\n",
    "df[\"woe\"] = np.log(df[\"good%\"] / df[\"bad%\"])\n",
    "df"
   ]
  },
  {
   "cell_type": "code",
   "execution_count": 62,
   "metadata": {},
   "outputs": [
    {
     "data": {
      "text/plain": [
       "0    -0.034200\n",
       "1    -0.024484\n",
       "2    -0.027956\n",
       "3    -0.017203\n",
       "4    -0.023735\n",
       "5    -0.019217\n",
       "6    -0.017719\n",
       "7    -0.016398\n",
       "8    -0.008984\n",
       "9    -0.014092\n",
       "10   -0.013561\n",
       "11   -0.011068\n",
       "12   -0.003801\n",
       "13    0.006649\n",
       "14    0.010891\n",
       "15    0.018248\n",
       "16    0.038188\n",
       "17    0.043976\n",
       "18    0.049397\n",
       "19    0.065070\n",
       "dtype: float64"
      ]
     },
     "execution_count": 62,
     "metadata": {},
     "output_type": "execute_result"
    }
   ],
   "source": [
    "rate = df[\"good%\"] - df[\"bad%\"]\n",
    "rate"
   ]
  },
  {
   "cell_type": "code",
   "execution_count": 63,
   "metadata": {},
   "outputs": [
    {
     "data": {
      "text/plain": [
       "0.3535308277492343"
      ]
     },
     "execution_count": 63,
     "metadata": {},
     "output_type": "execute_result"
    }
   ],
   "source": [
    "iv = np.sum(rate * df.woe)\n",
    "iv"
   ]
  },
  {
   "cell_type": "code",
   "execution_count": 64,
   "metadata": {},
   "outputs": [],
   "source": [
    "#计算WOE和BAD RATE\n",
    "#BAD RATE与bad%不是一个东西\n",
    "#BAD RATE是一个箱中，坏的样本所占的比例 (bad/total)\n",
    "#而bad%是一个箱中的坏样本占整个特征中的坏样本的比例\n",
    "def get_woe(num_bins):\n",
    "    # 通过 num_bins 数据计算 woe\n",
    "    columns = [\"min\",\"max\",\"count_0\",\"count_1\"]\n",
    "    df = pd.DataFrame(num_bins,columns=columns)\n",
    "    df[\"total\"] = df.count_0 + df.count_1 #一个箱子中所有样本数 \n",
    "    df[\"percentage\"] = df.total / df.total.sum() #一个箱子中的样本数占所有样本数的比例\n",
    "    df[\"bad_rate\"] = df.count_1 / df.total\n",
    "    \n",
    "    df[\"good%\"] = df.count_0/df.count_0.sum()\n",
    "    \n",
    "    df[\"bad%\"] = df.count_1/df.count_1.sum()\n",
    "    \n",
    "    df[\"woe\"] = np.log(df[\"good%\"] / df[\"bad%\"])\n",
    "    return df\n",
    "#计算IV值\n",
    "def get_iv(df):\n",
    "    rate = df[\"good%\"] - df[\"bad%\"]\n",
    "    iv = np.sum(rate * df.woe)\n",
    "    return iv"
   ]
  },
  {
   "cell_type": "code",
   "execution_count": 65,
   "metadata": {},
   "outputs": [],
   "source": [
    "# 3.3.4 卡方检验，合并箱体，画出IV曲线\n",
    "num_bins_ = num_bins.copy()"
   ]
  },
  {
   "cell_type": "code",
   "execution_count": 66,
   "metadata": {},
   "outputs": [
    {
     "data": {
      "text/plain": [
       "[(21.0, 28.0, 4243, 7555),\n",
       " (28.0, 31.0, 3571, 5940),\n",
       " (31.0, 34.0, 4075, 6780),\n",
       " (34.0, 36.0, 2908, 4571),\n",
       " (36.0, 39.0, 5182, 7472),\n",
       " (39.0, 41.0, 3956, 5811),\n",
       " (41.0, 43.0, 4002, 5711),\n",
       " (43.0, 45.0, 4389, 5968),\n",
       " (45.0, 46.0, 2419, 3284),\n",
       " (46.0, 48.0, 4813, 6166),\n",
       " (48.0, 50.0, 4900, 6201),\n",
       " (50.0, 52.0, 4728, 5787),\n",
       " (52.0, 54.0, 4681, 5033),\n",
       " (54.0, 56.0, 4677, 4012),\n",
       " (56.0, 58.0, 4483, 3406),\n",
       " (58.0, 61.0, 6583, 4782),\n",
       " (61.0, 64.0, 6968, 3225),\n",
       " (64.0, 68.0, 6623, 2318),\n",
       " (68.0, 74.0, 6753, 1920),\n",
       " (74.0, 107.0, 7737, 1375)]"
      ]
     },
     "execution_count": 66,
     "metadata": {},
     "output_type": "execute_result"
    }
   ],
   "source": [
    "num_bins_"
   ]
  },
  {
   "cell_type": "code",
   "execution_count": 67,
   "metadata": {},
   "outputs": [],
   "source": [
    "import matplotlib.pyplot as plt\n",
    "import scipy"
   ]
  },
  {
   "cell_type": "code",
   "execution_count": 68,
   "metadata": {},
   "outputs": [],
   "source": [
    "IV = []"
   ]
  },
  {
   "cell_type": "code",
   "execution_count": 69,
   "metadata": {},
   "outputs": [],
   "source": [
    "axisx = []"
   ]
  },
  {
   "cell_type": "code",
   "execution_count": 70,
   "metadata": {},
   "outputs": [
    {
     "data": {
      "text/plain": [
       "20"
      ]
     },
     "execution_count": 70,
     "metadata": {},
     "output_type": "execute_result"
    }
   ],
   "source": [
    "len(num_bins_)"
   ]
  },
  {
   "cell_type": "code",
   "execution_count": 71,
   "metadata": {},
   "outputs": [],
   "source": [
    "while len(num_bins_) > 2: #循环设置箱数\n",
    "    pvs = []\n",
    "    # 获取 num_bins_两两之间的卡方检验的置信度（或卡方值）\n",
    "    for i in range(len(num_bins_)-1):\n",
    "        x1 = num_bins_[i][2:]\n",
    "        x2 = num_bins_[i+1][2:]\n",
    "        # 0 返回 chi2 值，1 返回 p 值。\n",
    "        pv = scipy.stats.chi2_contingency([x1,x2])[1]\n",
    "        # chi2 = scipy.stats.chi2_contingency([x1,x2])[0]\n",
    "        pvs.append(pv)\n",
    "        \n",
    "    # 通过 p 值进行处理。合并 p 值最大的两组\n",
    "    i = pvs.index(max(pvs))\n",
    "    num_bins_[i:i+2] = [(\n",
    "        num_bins_[i][0],\n",
    "        num_bins_[i+1][1],\n",
    "        num_bins_[i][2]+num_bins_[i+1][2],\n",
    "        num_bins_[i][3]+num_bins_[i+1][3])]\n",
    "    bins_df = get_woe(num_bins_)\n",
    "    axisx.append(len(num_bins_))\n",
    "    IV.append(get_iv(bins_df))\n",
    "    "
   ]
  },
  {
   "cell_type": "code",
   "execution_count": 72,
   "metadata": {},
   "outputs": [
    {
     "data": {
      "image/png": "[encoded data removed]",
      "text/plain": [
       "<Figure size 432x288 with 1 Axes>"
      ]
     },
     "metadata": {
      "needs_background": "light"
     },
     "output_type": "display_data"
    }
   ],
   "source": [
    "plt.figure()\n",
    "plt.plot(axisx,IV)\n",
    "plt.xticks(axisx)\n",
    "plt.xlabel(\"number of box\")\n",
    "plt.ylabel(\"IV\")\n",
    "plt.show()"
   ]
  },
  {
   "cell_type": "code",
   "execution_count": 73,
   "metadata": {},
   "outputs": [],
   "source": [
    "# 3.3.5 用最佳分箱个数分箱，并验证分箱结果\n",
    "def get_bin(num_bins_,n):\n",
    "    while len(num_bins_) > n:\n",
    "        pvs = []\n",
    "        for i in range(len(num_bins_)-1):\n",
    "            x1 = num_bins_[i][2:]\n",
    "            x2 = num_bins_[i+1][2:]\n",
    "            pv = scipy.stats.chi2_contingency([x1,x2])[1]\n",
    "            # chi2 = scipy.stats.chi2_contingency([x1,x2])[0]\n",
    "            pvs.append(pv)\n",
    "        i = pvs.index(max(pvs))\n",
    "        num_bins_[i:i+2] = [(\n",
    "                num_bins_[i][0],\n",
    "                num_bins_[i+1][1],\n",
    "                num_bins_[i][2]+num_bins_[i+1][2],\n",
    "                num_bins_[i][3]+num_bins_[i+1][3])]\n",
    "    return num_bins_"
   ]
  },
  {
   "cell_type": "code",
   "execution_count": 74,
   "metadata": {},
   "outputs": [],
   "source": [
    "afterbins = get_bin(num_bins,6)"
   ]
  },
  {
   "cell_type": "code",
   "execution_count": 75,
   "metadata": {},
   "outputs": [
    {
     "data": {
      "text/plain": [
       "[(21.0, 36.0, 14797, 24846),\n",
       " (36.0, 54.0, 39070, 51433),\n",
       " (54.0, 61.0, 15743, 12200),\n",
       " (61.0, 64.0, 6968, 3225),\n",
       " (64.0, 74.0, 13376, 4238),\n",
       " (74.0, 107.0, 7737, 1375)]"
      ]
     },
     "execution_count": 75,
     "metadata": {},
     "output_type": "execute_result"
    }
   ],
   "source": [
    "afterbins"
   ]
  },
  {
   "cell_type": "code",
   "execution_count": 76,
   "metadata": {},
   "outputs": [],
   "source": [
    "bins_df = get_woe(num_bins)"
   ]
  },
  {
   "cell_type": "code",
   "execution_count": 77,
   "metadata": {},
   "outputs": [
    {
     "data": {
      "text/html": [
       "<div>\n",
       "<style scoped>\n",
       "    .dataframe tbody tr th:only-of-type {\n",
       "        vertical-align: middle;\n",
       "    }\n",
       "\n",
       "    .dataframe tbody tr th {\n",
       "        vertical-align: top;\n",
       "    }\n",
       "\n",
       "    .dataframe thead th {\n",
       "        text-align: right;\n",
       "    }\n",
       "</style>\n",
       "<table border=\"1\" class=\"dataframe\">\n",
       "  <thead>\n",
       "    <tr style=\"text-align: right;\">\n",
       "      <th></th>\n",
       "      <th>min</th>\n",
       "      <th>max</th>\n",
       "      <th>count_0</th>\n",
       "      <th>count_1</th>\n",
       "      <th>total</th>\n",
       "      <th>percentage</th>\n",
       "      <th>bad_rate</th>\n",
       "      <th>good%</th>\n",
       "      <th>bad%</th>\n",
       "      <th>woe</th>\n",
       "    </tr>\n",
       "  </thead>\n",
       "  <tbody>\n",
       "    <tr>\n",
       "      <th>0</th>\n",
       "      <td>21.0</td>\n",
       "      <td>36.0</td>\n",
       "      <td>14797</td>\n",
       "      <td>24846</td>\n",
       "      <td>39643</td>\n",
       "      <td>0.203289</td>\n",
       "      <td>0.626744</td>\n",
       "      <td>0.151467</td>\n",
       "      <td>0.255310</td>\n",
       "      <td>-0.522108</td>\n",
       "    </tr>\n",
       "    <tr>\n",
       "      <th>1</th>\n",
       "      <td>36.0</td>\n",
       "      <td>54.0</td>\n",
       "      <td>39070</td>\n",
       "      <td>51433</td>\n",
       "      <td>90503</td>\n",
       "      <td>0.464099</td>\n",
       "      <td>0.568302</td>\n",
       "      <td>0.399934</td>\n",
       "      <td>0.528510</td>\n",
       "      <td>-0.278761</td>\n",
       "    </tr>\n",
       "    <tr>\n",
       "      <th>2</th>\n",
       "      <td>54.0</td>\n",
       "      <td>61.0</td>\n",
       "      <td>15743</td>\n",
       "      <td>12200</td>\n",
       "      <td>27943</td>\n",
       "      <td>0.143292</td>\n",
       "      <td>0.436603</td>\n",
       "      <td>0.161151</td>\n",
       "      <td>0.125364</td>\n",
       "      <td>0.251124</td>\n",
       "    </tr>\n",
       "    <tr>\n",
       "      <th>3</th>\n",
       "      <td>61.0</td>\n",
       "      <td>64.0</td>\n",
       "      <td>6968</td>\n",
       "      <td>3225</td>\n",
       "      <td>10193</td>\n",
       "      <td>0.052270</td>\n",
       "      <td>0.316394</td>\n",
       "      <td>0.071327</td>\n",
       "      <td>0.033139</td>\n",
       "      <td>0.766560</td>\n",
       "    </tr>\n",
       "    <tr>\n",
       "      <th>4</th>\n",
       "      <td>64.0</td>\n",
       "      <td>74.0</td>\n",
       "      <td>13376</td>\n",
       "      <td>4238</td>\n",
       "      <td>17614</td>\n",
       "      <td>0.090324</td>\n",
       "      <td>0.240604</td>\n",
       "      <td>0.136922</td>\n",
       "      <td>0.043548</td>\n",
       "      <td>1.145535</td>\n",
       "    </tr>\n",
       "    <tr>\n",
       "      <th>5</th>\n",
       "      <td>74.0</td>\n",
       "      <td>107.0</td>\n",
       "      <td>7737</td>\n",
       "      <td>1375</td>\n",
       "      <td>9112</td>\n",
       "      <td>0.046726</td>\n",
       "      <td>0.150900</td>\n",
       "      <td>0.079199</td>\n",
       "      <td>0.014129</td>\n",
       "      <td>1.723725</td>\n",
       "    </tr>\n",
       "  </tbody>\n",
       "</table>\n",
       "</div>"
      ],
      "text/plain": [
       "    min    max  count_0  count_1  total  percentage  bad_rate     good%  \\\n",
       "0  21.0   36.0    14797    24846  39643    0.203289  0.626744  0.151467   \n",
       "1  36.0   54.0    39070    51433  90503    0.464099  0.568302  0.399934   \n",
       "2  54.0   61.0    15743    12200  27943    0.143292  0.436603  0.161151   \n",
       "3  61.0   64.0     6968     3225  10193    0.052270  0.316394  0.071327   \n",
       "4  64.0   74.0    13376     4238  17614    0.090324  0.240604  0.136922   \n",
       "5  74.0  107.0     7737     1375   9112    0.046726  0.150900  0.079199   \n",
       "\n",
       "       bad%       woe  \n",
       "0  0.255310 -0.522108  \n",
       "1  0.528510 -0.278761  \n",
       "2  0.125364  0.251124  \n",
       "3  0.033139  0.766560  \n",
       "4  0.043548  1.145535  \n",
       "5  0.014129  1.723725  "
      ]
     },
     "execution_count": 77,
     "metadata": {},
     "output_type": "execute_result"
    }
   ],
   "source": [
    "bins_df"
   ]
  },
  {
   "cell_type": "code",
   "execution_count": 78,
   "metadata": {},
   "outputs": [],
   "source": [
    "# 3.3.6 将选取最佳分箱个数的过程包装为函数\n",
    "'''\n",
    "自动最优分箱函数，基于卡方检验的分箱\n",
    "参数：\n",
    "DF: 需要输入的数据\n",
    "X: 需要分箱的列名\n",
    "Y: 分箱数据对应的标签 Y 列名\n",
    "n: 保留分箱个数\n",
    "q: 初始分箱的个数\n",
    "graph: 是否要画出IV图像\n",
    "区间为前开后闭 (]\n",
    "'''\n",
    "def graphforbestbin(DF, X, Y, n=5,q=20,graph=True):\n",
    "    DF = DF[[X,Y]].copy()\n",
    "\n",
    "    DF[\"qcut\"],bins = pd.qcut(DF[X], retbins=True, q=q,duplicates=\"drop\")\n",
    "    coount_y0 = DF.loc[DF[Y]==0].groupby(by=\"qcut\").count()[Y]\n",
    "    coount_y1 = DF.loc[DF[Y]==1].groupby(by=\"qcut\").count()[Y]\n",
    "    num_bins = [*zip(bins,bins[1:],coount_y0,coount_y1)]\n",
    "    \n",
    "    for i in range(q):\n",
    "        if 0 in num_bins[0][2:]:\n",
    "            num_bins[0:2] = [(\n",
    "                num_bins[0][0],\n",
    "                num_bins[1][1],\n",
    "                num_bins[0][2]+num_bins[1][2],\n",
    "                num_bins[0][3]+num_bins[1][3])]\n",
    "            continue\n",
    "            \n",
    "        for i in range(len(num_bins)):\n",
    "            if 0 in num_bins[i][2:]:\n",
    "                num_bins[i-1:i+1] = [(\n",
    "                    num_bins[i-1][0],\n",
    "                    num_bins[i][1],\n",
    "                    num_bins[i-1][2]+num_bins[i][2],\n",
    "                    num_bins[i-1][3]+num_bins[i][3])]\n",
    "                break\n",
    "        else:\n",
    "            break\n",
    "            \n",
    "    def get_woe(num_bins):\n",
    "        columns = [\"min\",\"max\",\"count_0\",\"count_1\"]\n",
    "        df = pd.DataFrame(num_bins,columns=columns)\n",
    "        df[\"total\"] = df.count_0 + df.count_1\n",
    "        df[\"percentage\"] = df.total / df.total.sum()\n",
    "        df[\"bad_rate\"] = df.count_1 / df.total\n",
    "        df[\"good%\"] = df.count_0/df.count_0.sum()\n",
    "        df[\"bad%\"] = df.count_1/df.count_1.sum()\n",
    "        df[\"woe\"] = np.log(df[\"good%\"] / df[\"bad%\"])\n",
    "        return df\n",
    "\n",
    "    def get_iv(df):\n",
    "        rate = df[\"good%\"] - df[\"bad%\"]\n",
    "        iv = np.sum(rate * df.woe)\n",
    "        return iv\n",
    "\n",
    "    IV = []\n",
    "    axisx = []\n",
    "    while len(num_bins) > n:\n",
    "        pvs = []\n",
    "        for i in range(len(num_bins)-1):\n",
    "            x1 = num_bins[i][2:]\n",
    "            x2 = num_bins[i+1][2:]\n",
    "            pv = scipy.stats.chi2_contingency([x1,x2])[1]\n",
    "            pvs.append(pv)\n",
    "            \n",
    "        i = pvs.index(max(pvs))\n",
    "        num_bins[i:i+2] = [(\n",
    "            num_bins[i][0],\n",
    "            num_bins[i+1][1],\n",
    "            num_bins[i][2]+num_bins[i+1][2],\n",
    "            num_bins[i][3]+num_bins[i+1][3])]\n",
    "        \n",
    "        bins_df = pd.DataFrame(get_woe(num_bins))\n",
    "        axisx.append(len(num_bins))\n",
    "        IV.append(get_iv(bins_df))\n",
    "        \n",
    "    if graph:\n",
    "        plt.figure()\n",
    "        plt.plot(axisx,IV) \n",
    "        plt.xticks(axisx)\n",
    "        plt.xlabel(\"number of box\")\n",
    "        plt.ylabel(\"IV\")\n",
    "        plt.show()\n",
    "    return bins_df"
   ]
  },
  {
   "cell_type": "code",
   "execution_count": 79,
   "metadata": {},
   "outputs": [
    {
     "data": {
      "text/plain": [
       "Index(['SeriousDlqin2yrs', 'RevolvingUtilizationOfUnsecuredLines', 'age',\n",
       "       'NumberOfTime30-59DaysPastDueNotWorse', 'DebtRatio', 'MonthlyIncome',\n",
       "       'NumberOfOpenCreditLinesAndLoans', 'NumberOfTimes90DaysLate',\n",
       "       'NumberRealEstateLoansOrLines', 'NumberOfTime60-89DaysPastDueNotWorse',\n",
       "       'NumberOfDependents', 'qcut'],\n",
       "      dtype='object')"
      ]
     },
     "execution_count": 79,
     "metadata": {},
     "output_type": "execute_result"
    }
   ],
   "source": [
    "model_data.columns"
   ]
  },
  {
   "cell_type": "code",
   "execution_count": 80,
   "metadata": {},
   "outputs": [
    {
     "name": "stdout",
     "output_type": "stream",
     "text": [
      "RevolvingUtilizationOfUnsecuredLines\n"
     ]
    },
    {
     "data": {
      "image/png": "[encoded data removed]",
      "text/plain": [
       "<Figure size 432x288 with 1 Axes>"
      ]
     },
     "metadata": {
      "needs_background": "light"
     },
     "output_type": "display_data"
    },
    {
     "name": "stdout",
     "output_type": "stream",
     "text": [
      "age\n"
     ]
    },
    {
     "data": {
      "image/png": "[encoded data removed]",
      "text/plain": [
       "<Figure size 432x288 with 1 Axes>"
      ]
     },
     "metadata": {
      "needs_background": "light"
     },
     "output_type": "display_data"
    },
    {
     "name": "stdout",
     "output_type": "stream",
     "text": [
      "NumberOfTime30-59DaysPastDueNotWorse\n"
     ]
    },
    {
     "data": {
      "image/png": "[encoded data removed]",
      "text/plain": [
       "<Figure size 432x288 with 1 Axes>"
      ]
     },
     "metadata": {
      "needs_background": "light"
     },
     "output_type": "display_data"
    },
    {
     "name": "stdout",
     "output_type": "stream",
     "text": [
      "DebtRatio\n"
     ]
    },
    {
     "data": {
      "image/png": "[encoded data removed]",
      "text/plain": [
       "<Figure size 432x288 with 1 Axes>"
      ]
     },
     "metadata": {
      "needs_background": "light"
     },
     "output_type": "display_data"
    },
    {
     "name": "stdout",
     "output_type": "stream",
     "text": [
      "MonthlyIncome\n"
     ]
    },
    {
     "data": {
      "image/png": "[encoded data removed]",
      "text/plain": [
       "<Figure size 432x288 with 1 Axes>"
      ]
     },
     "metadata": {
      "needs_background": "light"
     },
     "output_type": "display_data"
    },
    {
     "name": "stdout",
     "output_type": "stream",
     "text": [
      "NumberOfOpenCreditLinesAndLoans\n"
     ]
    },
    {
     "data": {
      "image/png": "[encoded data removed]",
      "text/plain": [
       "<Figure size 432x288 with 1 Axes>"
      ]
     },
     "metadata": {
      "needs_background": "light"
     },
     "output_type": "display_data"
    },
    {
     "name": "stdout",
     "output_type": "stream",
     "text": [
      "NumberOfTimes90DaysLate\n"
     ]
    },
    {
     "data": {
      "image/png": "[encoded data removed]",
      "text/plain": [
       "<Figure size 432x288 with 1 Axes>"
      ]
     },
     "metadata": {
      "needs_background": "light"
     },
     "output_type": "display_data"
    },
    {
     "name": "stdout",
     "output_type": "stream",
     "text": [
      "NumberRealEstateLoansOrLines\n"
     ]
    },
    {
     "data": {
      "image/png": "[encoded data removed]",
      "text/plain": [
       "<Figure size 432x288 with 1 Axes>"
      ]
     },
     "metadata": {
      "needs_background": "light"
     },
     "output_type": "display_data"
    },
    {
     "name": "stdout",
     "output_type": "stream",
     "text": [
      "NumberOfTime60-89DaysPastDueNotWorse\n"
     ]
    },
    {
     "data": {
      "image/png": "[encoded data removed]",
      "text/plain": [
       "<Figure size 432x288 with 1 Axes>"
      ]
     },
     "metadata": {
      "needs_background": "light"
     },
     "output_type": "display_data"
    },
    {
     "ename": "UnboundLocalError",
     "evalue": "local variable 'bins_df' referenced before assignment",
     "output_type": "error",
     "traceback": [
      "\u001b[1;31m---------------------------------------------------------------------------\u001b[0m",
      "\u001b[1;31mUnboundLocalError\u001b[0m                         Traceback (most recent call last)",
      "\u001b[1;32m<ipython-input-80-3db89bd5b513>\u001b[0m in \u001b[0;36m<module>\u001b[1;34m\u001b[0m\n\u001b[0;32m      1\u001b[0m \u001b[1;32mfor\u001b[0m \u001b[0mi\u001b[0m \u001b[1;32min\u001b[0m \u001b[0mmodel_data\u001b[0m\u001b[1;33m.\u001b[0m\u001b[0mcolumns\u001b[0m\u001b[1;33m[\u001b[0m\u001b[1;36m1\u001b[0m\u001b[1;33m:\u001b[0m\u001b[1;33m-\u001b[0m\u001b[1;36m1\u001b[0m\u001b[1;33m]\u001b[0m\u001b[1;33m:\u001b[0m\u001b[1;33m\u001b[0m\u001b[1;33m\u001b[0m\u001b[0m\n\u001b[0;32m      2\u001b[0m     \u001b[0mprint\u001b[0m\u001b[1;33m(\u001b[0m\u001b[0mi\u001b[0m\u001b[1;33m)\u001b[0m\u001b[1;33m\u001b[0m\u001b[1;33m\u001b[0m\u001b[0m\n\u001b[1;32m----> 3\u001b[1;33m     \u001b[0mgraphforbestbin\u001b[0m\u001b[1;33m(\u001b[0m\u001b[0mmodel_data\u001b[0m\u001b[1;33m,\u001b[0m\u001b[0mi\u001b[0m\u001b[1;33m,\u001b[0m\u001b[1;34m\"SeriousDlqin2yrs\"\u001b[0m\u001b[1;33m,\u001b[0m\u001b[0mn\u001b[0m\u001b[1;33m=\u001b[0m\u001b[1;36m2\u001b[0m\u001b[1;33m,\u001b[0m\u001b[0mq\u001b[0m\u001b[1;33m=\u001b[0m\u001b[1;36m20\u001b[0m\u001b[1;33m,\u001b[0m\u001b[0mgraph\u001b[0m\u001b[1;33m=\u001b[0m\u001b[1;32mTrue\u001b[0m\u001b[1;33m)\u001b[0m\u001b[1;33m\u001b[0m\u001b[1;33m\u001b[0m\u001b[0m\n\u001b[0m",
      "\u001b[1;32m<ipython-input-78-cdff5170a803>\u001b[0m in \u001b[0;36mgraphforbestbin\u001b[1;34m(DF, X, Y, n, q, graph)\u001b[0m\n\u001b[0;32m     83\u001b[0m         \u001b[0mplt\u001b[0m\u001b[1;33m.\u001b[0m\u001b[0mylabel\u001b[0m\u001b[1;33m(\u001b[0m\u001b[1;34m\"IV\"\u001b[0m\u001b[1;33m)\u001b[0m\u001b[1;33m\u001b[0m\u001b[1;33m\u001b[0m\u001b[0m\n\u001b[0;32m     84\u001b[0m         \u001b[0mplt\u001b[0m\u001b[1;33m.\u001b[0m\u001b[0mshow\u001b[0m\u001b[1;33m(\u001b[0m\u001b[1;33m)\u001b[0m\u001b[1;33m\u001b[0m\u001b[1;33m\u001b[0m\u001b[0m\n\u001b[1;32m---> 85\u001b[1;33m     \u001b[1;32mreturn\u001b[0m \u001b[0mbins_df\u001b[0m\u001b[1;33m\u001b[0m\u001b[1;33m\u001b[0m\u001b[0m\n\u001b[0m",
      "\u001b[1;31mUnboundLocalError\u001b[0m: local variable 'bins_df' referenced before assignment"
     ]
    }
   ],
   "source": [
    "for i in model_data.columns[1:-1]:\n",
    "    print(i)\n",
    "    graphforbestbin(model_data,i,\"SeriousDlqin2yrs\",n=2,q=20,graph=True)"
   ]
  },
  {
   "cell_type": "code",
   "execution_count": 81,
   "metadata": {},
   "outputs": [],
   "source": [
    "# 不能自动分箱的变量自己观察然后手写\n",
    "auto_col_bins = {\"RevolvingUtilizationOfUnsecuredLines\":6,\n",
    "                \"age\":5,\n",
    "                \"DebtRatio\":4,\n",
    "                \"MonthlyIncome\":3,\n",
    "                \"NumberOfOpenCreditLinesAndLoans\":5}"
   ]
  },
  {
   "cell_type": "code",
   "execution_count": 82,
   "metadata": {},
   "outputs": [],
   "source": [
    "#不能使用自动分箱的变量\n",
    "hand_bins = {\"NumberOfTime30-59DaysPastDueNotWorse\":[0,1,2,13]\n",
    "            ,\"NumberOfTimes90DaysLate\":[0,1,2,17]\n",
    "            ,\"NumberRealEstateLoansOrLines\":[0,1,2,4,54]\n",
    "            ,\"NumberOfTime60-89DaysPastDueNotWorse\":[0,1,2,8]\n",
    "            ,\"NumberOfDependents\":[0,1,2,3]}"
   ]
  },
  {
   "cell_type": "code",
   "execution_count": 83,
   "metadata": {},
   "outputs": [],
   "source": [
    "#保证区间覆盖使用 np.inf替换最大值，用-np.inf替换最小值\n",
    "hand_bins = {k:[-np.inf,*v[:-1],np.inf] for k,v in hand_bins.items()}"
   ]
  },
  {
   "cell_type": "code",
   "execution_count": 84,
   "metadata": {},
   "outputs": [
    {
     "data": {
      "text/plain": [
       "{'NumberOfTime30-59DaysPastDueNotWorse': [-inf, 0, 1, 2, inf],\n",
       " 'NumberOfTimes90DaysLate': [-inf, 0, 1, 2, inf],\n",
       " 'NumberRealEstateLoansOrLines': [-inf, 0, 1, 2, 4, inf],\n",
       " 'NumberOfTime60-89DaysPastDueNotWorse': [-inf, 0, 1, 2, inf],\n",
       " 'NumberOfDependents': [-inf, 0, 1, 2, inf]}"
      ]
     },
     "execution_count": 84,
     "metadata": {},
     "output_type": "execute_result"
    }
   ],
   "source": [
    "hand_bins"
   ]
  },
  {
   "cell_type": "code",
   "execution_count": 85,
   "metadata": {},
   "outputs": [],
   "source": [
    "bins_of_col = {}"
   ]
  },
  {
   "cell_type": "code",
   "execution_count": 86,
   "metadata": {},
   "outputs": [],
   "source": [
    "# 生成自动分箱的分箱区间和分箱后的 IV 值\n",
    "for col in auto_col_bins:\n",
    "    bins_df = graphforbestbin(model_data,col\n",
    "                             ,\"SeriousDlqin2yrs\"\n",
    "                             ,n=auto_col_bins[col]\n",
    "                             #使用字典的性质来取出每个特征所对应的箱的数量\n",
    "                             ,q=20\n",
    "                             ,graph=False)\n",
    "    bins_list = sorted(set(bins_df[\"min\"]).union(bins_df[\"max\"]))\n",
    "    #保证区间覆盖使用 np.inf 替换最大值 -np.inf 替换最小值\n",
    "    bins_list[0],bins_list[-1] = -np.inf,np.inf\n",
    "    bins_of_col[col] = bins_list"
   ]
  },
  {
   "cell_type": "code",
   "execution_count": 87,
   "metadata": {},
   "outputs": [],
   "source": [
    "#合并手动分箱数据    \n",
    "bins_of_col.update(hand_bins)"
   ]
  },
  {
   "cell_type": "code",
   "execution_count": 88,
   "metadata": {},
   "outputs": [
    {
     "data": {
      "text/plain": [
       "{'RevolvingUtilizationOfUnsecuredLines': [-inf,\n",
       "  0.09894424338337718,\n",
       "  0.298024376299956,\n",
       "  0.4653543375589071,\n",
       "  0.9825144902467088,\n",
       "  0.9999998999999999,\n",
       "  inf],\n",
       " 'age': [-inf, 36.0, 54.0, 61.0, 74.0, inf],\n",
       " 'DebtRatio': [-inf,\n",
       "  0.0170495097,\n",
       "  0.5034625055732768,\n",
       "  1.4717734384604737,\n",
       "  inf],\n",
       " 'MonthlyIncome': [-inf, 0.09464469926044207, 5594.894815449431, inf],\n",
       " 'NumberOfOpenCreditLinesAndLoans': [-inf, 1.0, 3.0, 5.0, 17.0, inf],\n",
       " 'NumberOfTime30-59DaysPastDueNotWorse': [-inf, 0, 1, 2, inf],\n",
       " 'NumberOfTimes90DaysLate': [-inf, 0, 1, 2, inf],\n",
       " 'NumberRealEstateLoansOrLines': [-inf, 0, 1, 2, 4, inf],\n",
       " 'NumberOfTime60-89DaysPastDueNotWorse': [-inf, 0, 1, 2, inf],\n",
       " 'NumberOfDependents': [-inf, 0, 1, 2, inf]}"
      ]
     },
     "execution_count": 88,
     "metadata": {},
     "output_type": "execute_result"
    }
   ],
   "source": [
    "bins_of_col"
   ]
  },
  {
   "cell_type": "code",
   "execution_count": 89,
   "metadata": {},
   "outputs": [],
   "source": [
    "# 3.4 计算各箱的WOE并映射到数据中"
   ]
  },
  {
   "cell_type": "code",
   "execution_count": 90,
   "metadata": {},
   "outputs": [],
   "source": [
    "data = model_data.copy()"
   ]
  },
  {
   "cell_type": "code",
   "execution_count": 91,
   "metadata": {},
   "outputs": [],
   "source": [
    "#函数pd.cut，可以根据已知的分箱间隔把数据分箱\n",
    "#参数为 pd.cut(数据，以列表表示的分箱间隔)\n",
    "data = data[[\"age\",\"SeriousDlqin2yrs\"]].copy()"
   ]
  },
  {
   "cell_type": "code",
   "execution_count": 92,
   "metadata": {},
   "outputs": [
    {
     "data": {
      "text/html": [
       "<div>\n",
       "<style scoped>\n",
       "    .dataframe tbody tr th:only-of-type {\n",
       "        vertical-align: middle;\n",
       "    }\n",
       "\n",
       "    .dataframe tbody tr th {\n",
       "        vertical-align: top;\n",
       "    }\n",
       "\n",
       "    .dataframe thead th {\n",
       "        text-align: right;\n",
       "    }\n",
       "</style>\n",
       "<table border=\"1\" class=\"dataframe\">\n",
       "  <thead>\n",
       "    <tr style=\"text-align: right;\">\n",
       "      <th></th>\n",
       "      <th>age</th>\n",
       "      <th>SeriousDlqin2yrs</th>\n",
       "    </tr>\n",
       "  </thead>\n",
       "  <tbody>\n",
       "    <tr>\n",
       "      <th>0</th>\n",
       "      <td>53</td>\n",
       "      <td>0</td>\n",
       "    </tr>\n",
       "    <tr>\n",
       "      <th>1</th>\n",
       "      <td>63</td>\n",
       "      <td>0</td>\n",
       "    </tr>\n",
       "    <tr>\n",
       "      <th>2</th>\n",
       "      <td>39</td>\n",
       "      <td>1</td>\n",
       "    </tr>\n",
       "    <tr>\n",
       "      <th>3</th>\n",
       "      <td>73</td>\n",
       "      <td>0</td>\n",
       "    </tr>\n",
       "    <tr>\n",
       "      <th>4</th>\n",
       "      <td>53</td>\n",
       "      <td>1</td>\n",
       "    </tr>\n",
       "    <tr>\n",
       "      <th>...</th>\n",
       "      <td>...</td>\n",
       "      <td>...</td>\n",
       "    </tr>\n",
       "    <tr>\n",
       "      <th>195003</th>\n",
       "      <td>32</td>\n",
       "      <td>1</td>\n",
       "    </tr>\n",
       "    <tr>\n",
       "      <th>195004</th>\n",
       "      <td>50</td>\n",
       "      <td>1</td>\n",
       "    </tr>\n",
       "    <tr>\n",
       "      <th>195005</th>\n",
       "      <td>46</td>\n",
       "      <td>1</td>\n",
       "    </tr>\n",
       "    <tr>\n",
       "      <th>195006</th>\n",
       "      <td>64</td>\n",
       "      <td>0</td>\n",
       "    </tr>\n",
       "    <tr>\n",
       "      <th>195007</th>\n",
       "      <td>53</td>\n",
       "      <td>1</td>\n",
       "    </tr>\n",
       "  </tbody>\n",
       "</table>\n",
       "<p>195008 rows × 2 columns</p>\n",
       "</div>"
      ],
      "text/plain": [
       "        age  SeriousDlqin2yrs\n",
       "0        53                 0\n",
       "1        63                 0\n",
       "2        39                 1\n",
       "3        73                 0\n",
       "4        53                 1\n",
       "...     ...               ...\n",
       "195003   32                 1\n",
       "195004   50                 1\n",
       "195005   46                 1\n",
       "195006   64                 0\n",
       "195007   53                 1\n",
       "\n",
       "[195008 rows x 2 columns]"
      ]
     },
     "execution_count": 92,
     "metadata": {},
     "output_type": "execute_result"
    }
   ],
   "source": [
    "data"
   ]
  },
  {
   "cell_type": "code",
   "execution_count": 93,
   "metadata": {},
   "outputs": [],
   "source": [
    "data[\"cut\"] = pd.cut(data[\"age\"],[-np.inf, 48.49986200790144, 58.757170160044694, 64.0, 74.0, np.inf])"
   ]
  },
  {
   "cell_type": "code",
   "execution_count": 94,
   "metadata": {},
   "outputs": [
    {
     "data": {
      "text/html": [
       "<div>\n",
       "<style scoped>\n",
       "    .dataframe tbody tr th:only-of-type {\n",
       "        vertical-align: middle;\n",
       "    }\n",
       "\n",
       "    .dataframe tbody tr th {\n",
       "        vertical-align: top;\n",
       "    }\n",
       "\n",
       "    .dataframe thead th {\n",
       "        text-align: right;\n",
       "    }\n",
       "</style>\n",
       "<table border=\"1\" class=\"dataframe\">\n",
       "  <thead>\n",
       "    <tr style=\"text-align: right;\">\n",
       "      <th></th>\n",
       "      <th>age</th>\n",
       "      <th>SeriousDlqin2yrs</th>\n",
       "      <th>cut</th>\n",
       "    </tr>\n",
       "  </thead>\n",
       "  <tbody>\n",
       "    <tr>\n",
       "      <th>0</th>\n",
       "      <td>53</td>\n",
       "      <td>0</td>\n",
       "      <td>(48.5, 58.757]</td>\n",
       "    </tr>\n",
       "    <tr>\n",
       "      <th>1</th>\n",
       "      <td>63</td>\n",
       "      <td>0</td>\n",
       "      <td>(58.757, 64.0]</td>\n",
       "    </tr>\n",
       "    <tr>\n",
       "      <th>2</th>\n",
       "      <td>39</td>\n",
       "      <td>1</td>\n",
       "      <td>(-inf, 48.5]</td>\n",
       "    </tr>\n",
       "    <tr>\n",
       "      <th>3</th>\n",
       "      <td>73</td>\n",
       "      <td>0</td>\n",
       "      <td>(64.0, 74.0]</td>\n",
       "    </tr>\n",
       "    <tr>\n",
       "      <th>4</th>\n",
       "      <td>53</td>\n",
       "      <td>1</td>\n",
       "      <td>(48.5, 58.757]</td>\n",
       "    </tr>\n",
       "    <tr>\n",
       "      <th>...</th>\n",
       "      <td>...</td>\n",
       "      <td>...</td>\n",
       "      <td>...</td>\n",
       "    </tr>\n",
       "    <tr>\n",
       "      <th>195003</th>\n",
       "      <td>32</td>\n",
       "      <td>1</td>\n",
       "      <td>(-inf, 48.5]</td>\n",
       "    </tr>\n",
       "    <tr>\n",
       "      <th>195004</th>\n",
       "      <td>50</td>\n",
       "      <td>1</td>\n",
       "      <td>(48.5, 58.757]</td>\n",
       "    </tr>\n",
       "    <tr>\n",
       "      <th>195005</th>\n",
       "      <td>46</td>\n",
       "      <td>1</td>\n",
       "      <td>(-inf, 48.5]</td>\n",
       "    </tr>\n",
       "    <tr>\n",
       "      <th>195006</th>\n",
       "      <td>64</td>\n",
       "      <td>0</td>\n",
       "      <td>(58.757, 64.0]</td>\n",
       "    </tr>\n",
       "    <tr>\n",
       "      <th>195007</th>\n",
       "      <td>53</td>\n",
       "      <td>1</td>\n",
       "      <td>(48.5, 58.757]</td>\n",
       "    </tr>\n",
       "  </tbody>\n",
       "</table>\n",
       "<p>195008 rows × 3 columns</p>\n",
       "</div>"
      ],
      "text/plain": [
       "        age  SeriousDlqin2yrs             cut\n",
       "0        53                 0  (48.5, 58.757]\n",
       "1        63                 0  (58.757, 64.0]\n",
       "2        39                 1    (-inf, 48.5]\n",
       "3        73                 0    (64.0, 74.0]\n",
       "4        53                 1  (48.5, 58.757]\n",
       "...     ...               ...             ...\n",
       "195003   32                 1    (-inf, 48.5]\n",
       "195004   50                 1  (48.5, 58.757]\n",
       "195005   46                 1    (-inf, 48.5]\n",
       "195006   64                 0  (58.757, 64.0]\n",
       "195007   53                 1  (48.5, 58.757]\n",
       "\n",
       "[195008 rows x 3 columns]"
      ]
     },
     "execution_count": 94,
     "metadata": {},
     "output_type": "execute_result"
    }
   ],
   "source": [
    "data"
   ]
  },
  {
   "cell_type": "code",
   "execution_count": 95,
   "metadata": {},
   "outputs": [
    {
     "data": {
      "text/plain": [
       "cut             SeriousDlqin2yrs\n",
       "(-inf, 48.5]    1                   59258\n",
       "                0                   39558\n",
       "(48.5, 58.757]  1                   24439\n",
       "                0                   23469\n",
       "(58.757, 64.0]  0                   13551\n",
       "                1                    8007\n",
       "(64.0, 74.0]    0                   13376\n",
       "                1                    4238\n",
       "(74.0, inf]     0                    7737\n",
       "                1                    1375\n",
       "Name: SeriousDlqin2yrs, dtype: int64"
      ]
     },
     "execution_count": 95,
     "metadata": {},
     "output_type": "execute_result"
    }
   ],
   "source": [
    "#将数据按分箱结果聚合，并取出其中的标签值\n",
    "data.groupby(\"cut\")[\"SeriousDlqin2yrs\"].value_counts()"
   ]
  },
  {
   "cell_type": "code",
   "execution_count": 96,
   "metadata": {},
   "outputs": [
    {
     "data": {
      "text/html": [
       "<div>\n",
       "<style scoped>\n",
       "    .dataframe tbody tr th:only-of-type {\n",
       "        vertical-align: middle;\n",
       "    }\n",
       "\n",
       "    .dataframe tbody tr th {\n",
       "        vertical-align: top;\n",
       "    }\n",
       "\n",
       "    .dataframe thead th {\n",
       "        text-align: right;\n",
       "    }\n",
       "</style>\n",
       "<table border=\"1\" class=\"dataframe\">\n",
       "  <thead>\n",
       "    <tr style=\"text-align: right;\">\n",
       "      <th>SeriousDlqin2yrs</th>\n",
       "      <th>0</th>\n",
       "      <th>1</th>\n",
       "    </tr>\n",
       "    <tr>\n",
       "      <th>cut</th>\n",
       "      <th></th>\n",
       "      <th></th>\n",
       "    </tr>\n",
       "  </thead>\n",
       "  <tbody>\n",
       "    <tr>\n",
       "      <th>(-inf, 48.5]</th>\n",
       "      <td>39558</td>\n",
       "      <td>59258</td>\n",
       "    </tr>\n",
       "    <tr>\n",
       "      <th>(48.5, 58.757]</th>\n",
       "      <td>23469</td>\n",
       "      <td>24439</td>\n",
       "    </tr>\n",
       "    <tr>\n",
       "      <th>(58.757, 64.0]</th>\n",
       "      <td>13551</td>\n",
       "      <td>8007</td>\n",
       "    </tr>\n",
       "    <tr>\n",
       "      <th>(64.0, 74.0]</th>\n",
       "      <td>13376</td>\n",
       "      <td>4238</td>\n",
       "    </tr>\n",
       "    <tr>\n",
       "      <th>(74.0, inf]</th>\n",
       "      <td>7737</td>\n",
       "      <td>1375</td>\n",
       "    </tr>\n",
       "  </tbody>\n",
       "</table>\n",
       "</div>"
      ],
      "text/plain": [
       "SeriousDlqin2yrs      0      1\n",
       "cut                           \n",
       "(-inf, 48.5]      39558  59258\n",
       "(48.5, 58.757]    23469  24439\n",
       "(58.757, 64.0]    13551   8007\n",
       "(64.0, 74.0]      13376   4238\n",
       "(74.0, inf]        7737   1375"
      ]
     },
     "execution_count": 96,
     "metadata": {},
     "output_type": "execute_result"
    }
   ],
   "source": [
    "#使用unstack()来将树状结构变成表状结构\n",
    "data.groupby(\"cut\")[\"SeriousDlqin2yrs\"].value_counts().unstack()"
   ]
  },
  {
   "cell_type": "code",
   "execution_count": 97,
   "metadata": {},
   "outputs": [],
   "source": [
    "bins_df = data.groupby(\"cut\")[\"SeriousDlqin2yrs\"].value_counts().unstack()"
   ]
  },
  {
   "cell_type": "code",
   "execution_count": 98,
   "metadata": {},
   "outputs": [],
   "source": [
    "bins_df[\"woe\"] = np.log((bins_df[0]/bins_df[0].sum())/(bins_df[1]/bins_df[1].sum()))"
   ]
  },
  {
   "cell_type": "code",
   "execution_count": 99,
   "metadata": {},
   "outputs": [
    {
     "data": {
      "text/html": [
       "<div>\n",
       "<style scoped>\n",
       "    .dataframe tbody tr th:only-of-type {\n",
       "        vertical-align: middle;\n",
       "    }\n",
       "\n",
       "    .dataframe tbody tr th {\n",
       "        vertical-align: top;\n",
       "    }\n",
       "\n",
       "    .dataframe thead th {\n",
       "        text-align: right;\n",
       "    }\n",
       "</style>\n",
       "<table border=\"1\" class=\"dataframe\">\n",
       "  <thead>\n",
       "    <tr style=\"text-align: right;\">\n",
       "      <th>SeriousDlqin2yrs</th>\n",
       "      <th>0</th>\n",
       "      <th>1</th>\n",
       "      <th>woe</th>\n",
       "    </tr>\n",
       "    <tr>\n",
       "      <th>cut</th>\n",
       "      <th></th>\n",
       "      <th></th>\n",
       "      <th></th>\n",
       "    </tr>\n",
       "  </thead>\n",
       "  <tbody>\n",
       "    <tr>\n",
       "      <th>(-inf, 48.5]</th>\n",
       "      <td>39558</td>\n",
       "      <td>59258</td>\n",
       "      <td>-0.407969</td>\n",
       "    </tr>\n",
       "    <tr>\n",
       "      <th>(48.5, 58.757]</th>\n",
       "      <td>23469</td>\n",
       "      <td>24439</td>\n",
       "      <td>-0.044336</td>\n",
       "    </tr>\n",
       "    <tr>\n",
       "      <th>(58.757, 64.0]</th>\n",
       "      <td>13551</td>\n",
       "      <td>8007</td>\n",
       "      <td>0.522308</td>\n",
       "    </tr>\n",
       "    <tr>\n",
       "      <th>(64.0, 74.0]</th>\n",
       "      <td>13376</td>\n",
       "      <td>4238</td>\n",
       "      <td>1.145535</td>\n",
       "    </tr>\n",
       "    <tr>\n",
       "      <th>(74.0, inf]</th>\n",
       "      <td>7737</td>\n",
       "      <td>1375</td>\n",
       "      <td>1.723725</td>\n",
       "    </tr>\n",
       "  </tbody>\n",
       "</table>\n",
       "</div>"
      ],
      "text/plain": [
       "SeriousDlqin2yrs      0      1       woe\n",
       "cut                                     \n",
       "(-inf, 48.5]      39558  59258 -0.407969\n",
       "(48.5, 58.757]    23469  24439 -0.044336\n",
       "(58.757, 64.0]    13551   8007  0.522308\n",
       "(64.0, 74.0]      13376   4238  1.145535\n",
       "(74.0, inf]        7737   1375  1.723725"
      ]
     },
     "execution_count": 99,
     "metadata": {},
     "output_type": "execute_result"
    }
   ],
   "source": [
    "bins_df"
   ]
  },
  {
   "cell_type": "code",
   "execution_count": 100,
   "metadata": {},
   "outputs": [],
   "source": [
    "def get_woe(df,col,y,bins):\n",
    "    df = df[[col,y]].copy()\n",
    "    df[\"cut\"] = pd.cut(df[col],bins)\n",
    "    bins_df = df.groupby(\"cut\")[y].value_counts().unstack()\n",
    "    woe = bins_df[\"woe\"] = np.log((bins_df[0]/bins_df[0].sum())/(bins_df[1]/bins_df[1].sum()))\n",
    "    return woe"
   ]
  },
  {
   "cell_type": "code",
   "execution_count": 101,
   "metadata": {},
   "outputs": [],
   "source": [
    "#将所有特征的WOE存储到字典当中\n",
    "woeall = {}\n",
    "for col in bins_of_col:\n",
    "    woeall[col] = get_woe(model_data,col,\"SeriousDlqin2yrs\",bins_of_col[col])"
   ]
  },
  {
   "cell_type": "code",
   "execution_count": 102,
   "metadata": {},
   "outputs": [
    {
     "data": {
      "text/plain": [
       "{'RevolvingUtilizationOfUnsecuredLines': cut\n",
       " (-inf, 0.0989]     2.196858\n",
       " (0.0989, 0.298]    0.673405\n",
       " (0.298, 0.465]    -0.127371\n",
       " (0.465, 0.983]    -1.074203\n",
       " (0.983, 1.0]      -0.473839\n",
       " (1.0, inf]        -2.038972\n",
       " dtype: float64,\n",
       " 'age': cut\n",
       " (-inf, 36.0]   -0.522108\n",
       " (36.0, 54.0]   -0.278761\n",
       " (54.0, 61.0]    0.251124\n",
       " (61.0, 74.0]    0.998993\n",
       " (74.0, inf]     1.723725\n",
       " dtype: float64,\n",
       " 'DebtRatio': cut\n",
       " (-inf, 0.017]     1.474877\n",
       " (0.017, 0.503]   -0.008684\n",
       " (0.503, 1.472]   -0.472690\n",
       " (1.472, inf]      0.175196\n",
       " dtype: float64,\n",
       " 'MonthlyIncome': cut\n",
       " (-inf, 0.0946]        1.212443\n",
       " (0.0946, 5594.895]   -0.224964\n",
       " (5594.895, inf]       0.230629\n",
       " dtype: float64,\n",
       " 'NumberOfOpenCreditLinesAndLoans': cut\n",
       " (-inf, 1.0]   -0.859561\n",
       " (1.0, 3.0]    -0.324824\n",
       " (3.0, 5.0]    -0.051425\n",
       " (5.0, 17.0]    0.123421\n",
       " (17.0, inf]    0.462551\n",
       " dtype: float64,\n",
       " 'NumberOfTime30-59DaysPastDueNotWorse': cut\n",
       " (-inf, 0.0]    0.352170\n",
       " (0.0, 1.0]    -0.871026\n",
       " (1.0, 2.0]    -1.379019\n",
       " (2.0, inf]    -1.541517\n",
       " dtype: float64,\n",
       " 'NumberOfTimes90DaysLate': cut\n",
       " (-inf, 0.0]    0.236319\n",
       " (0.0, 1.0]    -1.754896\n",
       " (1.0, 2.0]    -2.271291\n",
       " (2.0, inf]    -2.407176\n",
       " dtype: float64,\n",
       " 'NumberRealEstateLoansOrLines': cut\n",
       " (-inf, 0.0]   -0.393423\n",
       " (0.0, 1.0]     0.194476\n",
       " (1.0, 2.0]     0.616610\n",
       " (2.0, 4.0]     0.394573\n",
       " (4.0, inf]    -0.304107\n",
       " dtype: float64,\n",
       " 'NumberOfTime60-89DaysPastDueNotWorse': cut\n",
       " (-inf, 0.0]    0.124560\n",
       " (0.0, 1.0]    -1.385566\n",
       " (1.0, 2.0]    -1.767781\n",
       " (2.0, inf]    -1.822007\n",
       " dtype: float64,\n",
       " 'NumberOfDependents': cut\n",
       " (-inf, 0.0]    0.625577\n",
       " (0.0, 1.0]    -0.580294\n",
       " (1.0, 2.0]    -0.530797\n",
       " (2.0, inf]    -0.472333\n",
       " dtype: float64}"
      ]
     },
     "execution_count": 102,
     "metadata": {},
     "output_type": "execute_result"
    }
   ],
   "source": [
    "woeall"
   ]
  },
  {
   "cell_type": "code",
   "execution_count": 103,
   "metadata": {},
   "outputs": [],
   "source": [
    "#不希望覆盖掉原本的数据，创建一个新的DataFrame，索引和原始数据model_data一模一样\n",
    "model_woe = pd.DataFrame(index=model_data.index) "
   ]
  },
  {
   "cell_type": "code",
   "execution_count": 104,
   "metadata": {},
   "outputs": [
    {
     "data": {
      "text/html": [
       "<div>\n",
       "<style scoped>\n",
       "    .dataframe tbody tr th:only-of-type {\n",
       "        vertical-align: middle;\n",
       "    }\n",
       "\n",
       "    .dataframe tbody tr th {\n",
       "        vertical-align: top;\n",
       "    }\n",
       "\n",
       "    .dataframe thead th {\n",
       "        text-align: right;\n",
       "    }\n",
       "</style>\n",
       "<table border=\"1\" class=\"dataframe\">\n",
       "  <thead>\n",
       "    <tr style=\"text-align: right;\">\n",
       "      <th></th>\n",
       "    </tr>\n",
       "  </thead>\n",
       "  <tbody>\n",
       "    <tr>\n",
       "      <th>0</th>\n",
       "    </tr>\n",
       "    <tr>\n",
       "      <th>1</th>\n",
       "    </tr>\n",
       "    <tr>\n",
       "      <th>2</th>\n",
       "    </tr>\n",
       "    <tr>\n",
       "      <th>3</th>\n",
       "    </tr>\n",
       "    <tr>\n",
       "      <th>4</th>\n",
       "    </tr>\n",
       "    <tr>\n",
       "      <th>...</th>\n",
       "    </tr>\n",
       "    <tr>\n",
       "      <th>195003</th>\n",
       "    </tr>\n",
       "    <tr>\n",
       "      <th>195004</th>\n",
       "    </tr>\n",
       "    <tr>\n",
       "      <th>195005</th>\n",
       "    </tr>\n",
       "    <tr>\n",
       "      <th>195006</th>\n",
       "    </tr>\n",
       "    <tr>\n",
       "      <th>195007</th>\n",
       "    </tr>\n",
       "  </tbody>\n",
       "</table>\n",
       "<p>195008 rows × 0 columns</p>\n",
       "</div>"
      ],
      "text/plain": [
       "Empty DataFrame\n",
       "Columns: []\n",
       "Index: [0, 1, 2, 3, 4, 5, 6, 7, 8, 9, 10, 11, 12, 13, 14, 15, 16, 17, 18, 19, 20, 21, 22, 23, 24, 25, 26, 27, 28, 29, 30, 31, 32, 33, 34, 35, 36, 37, 38, 39, 40, 41, 42, 43, 44, 45, 46, 47, 48, 49, 50, 51, 52, 53, 54, 55, 56, 57, 58, 59, 60, 61, 62, 63, 64, 65, 66, 67, 68, 69, 70, 71, 72, 73, 74, 75, 76, 77, 78, 79, 80, 81, 82, 83, 84, 85, 86, 87, 88, 89, 90, 91, 92, 93, 94, 95, 96, 97, 98, 99, ...]\n",
       "\n",
       "[195008 rows x 0 columns]"
      ]
     },
     "execution_count": 104,
     "metadata": {},
     "output_type": "execute_result"
    }
   ],
   "source": [
    "model_woe"
   ]
  },
  {
   "cell_type": "code",
   "execution_count": 105,
   "metadata": {},
   "outputs": [],
   "source": [
    "#将原数据分箱后，按箱的结果把WOE结构用map函数映射到数据中\n",
    "model_woe[\"age\"] = pd.cut(model_data[\"age\"],bins_of_col[\"age\"]).map(woeall[\"age\"])"
   ]
  },
  {
   "cell_type": "code",
   "execution_count": 106,
   "metadata": {},
   "outputs": [
    {
     "data": {
      "text/html": [
       "<div>\n",
       "<style scoped>\n",
       "    .dataframe tbody tr th:only-of-type {\n",
       "        vertical-align: middle;\n",
       "    }\n",
       "\n",
       "    .dataframe tbody tr th {\n",
       "        vertical-align: top;\n",
       "    }\n",
       "\n",
       "    .dataframe thead th {\n",
       "        text-align: right;\n",
       "    }\n",
       "</style>\n",
       "<table border=\"1\" class=\"dataframe\">\n",
       "  <thead>\n",
       "    <tr style=\"text-align: right;\">\n",
       "      <th></th>\n",
       "      <th>age</th>\n",
       "    </tr>\n",
       "  </thead>\n",
       "  <tbody>\n",
       "    <tr>\n",
       "      <th>0</th>\n",
       "      <td>-0.278761</td>\n",
       "    </tr>\n",
       "    <tr>\n",
       "      <th>1</th>\n",
       "      <td>0.998993</td>\n",
       "    </tr>\n",
       "    <tr>\n",
       "      <th>2</th>\n",
       "      <td>-0.278761</td>\n",
       "    </tr>\n",
       "    <tr>\n",
       "      <th>3</th>\n",
       "      <td>0.998993</td>\n",
       "    </tr>\n",
       "    <tr>\n",
       "      <th>4</th>\n",
       "      <td>-0.278761</td>\n",
       "    </tr>\n",
       "    <tr>\n",
       "      <th>...</th>\n",
       "      <td>...</td>\n",
       "    </tr>\n",
       "    <tr>\n",
       "      <th>195003</th>\n",
       "      <td>-0.522108</td>\n",
       "    </tr>\n",
       "    <tr>\n",
       "      <th>195004</th>\n",
       "      <td>-0.278761</td>\n",
       "    </tr>\n",
       "    <tr>\n",
       "      <th>195005</th>\n",
       "      <td>-0.278761</td>\n",
       "    </tr>\n",
       "    <tr>\n",
       "      <th>195006</th>\n",
       "      <td>0.998993</td>\n",
       "    </tr>\n",
       "    <tr>\n",
       "      <th>195007</th>\n",
       "      <td>-0.278761</td>\n",
       "    </tr>\n",
       "  </tbody>\n",
       "</table>\n",
       "<p>195008 rows × 1 columns</p>\n",
       "</div>"
      ],
      "text/plain": [
       "             age\n",
       "0      -0.278761\n",
       "1       0.998993\n",
       "2      -0.278761\n",
       "3       0.998993\n",
       "4      -0.278761\n",
       "...          ...\n",
       "195003 -0.522108\n",
       "195004 -0.278761\n",
       "195005 -0.278761\n",
       "195006  0.998993\n",
       "195007 -0.278761\n",
       "\n",
       "[195008 rows x 1 columns]"
      ]
     },
     "execution_count": 106,
     "metadata": {},
     "output_type": "execute_result"
    }
   ],
   "source": [
    "model_woe"
   ]
  },
  {
   "cell_type": "code",
   "execution_count": 107,
   "metadata": {},
   "outputs": [],
   "source": [
    "#对所有特征操作可以写成：\n",
    "for col in bins_of_col:\n",
    "    model_woe[col] = pd.cut(model_data[col],bins_of_col[col]).map(woeall[col])"
   ]
  },
  {
   "cell_type": "code",
   "execution_count": 108,
   "metadata": {},
   "outputs": [
    {
     "data": {
      "text/html": [
       "<div>\n",
       "<style scoped>\n",
       "    .dataframe tbody tr th:only-of-type {\n",
       "        vertical-align: middle;\n",
       "    }\n",
       "\n",
       "    .dataframe tbody tr th {\n",
       "        vertical-align: top;\n",
       "    }\n",
       "\n",
       "    .dataframe thead th {\n",
       "        text-align: right;\n",
       "    }\n",
       "</style>\n",
       "<table border=\"1\" class=\"dataframe\">\n",
       "  <thead>\n",
       "    <tr style=\"text-align: right;\">\n",
       "      <th></th>\n",
       "      <th>age</th>\n",
       "      <th>RevolvingUtilizationOfUnsecuredLines</th>\n",
       "      <th>DebtRatio</th>\n",
       "      <th>MonthlyIncome</th>\n",
       "      <th>NumberOfOpenCreditLinesAndLoans</th>\n",
       "      <th>NumberOfTime30-59DaysPastDueNotWorse</th>\n",
       "      <th>NumberOfTimes90DaysLate</th>\n",
       "      <th>NumberRealEstateLoansOrLines</th>\n",
       "      <th>NumberOfTime60-89DaysPastDueNotWorse</th>\n",
       "      <th>NumberOfDependents</th>\n",
       "    </tr>\n",
       "  </thead>\n",
       "  <tbody>\n",
       "    <tr>\n",
       "      <th>0</th>\n",
       "      <td>-0.278761</td>\n",
       "      <td>2.196858</td>\n",
       "      <td>-0.008684</td>\n",
       "      <td>-0.224964</td>\n",
       "      <td>-0.051425</td>\n",
       "      <td>0.352170</td>\n",
       "      <td>0.236319</td>\n",
       "      <td>-0.393423</td>\n",
       "      <td>0.124560</td>\n",
       "      <td>0.625577</td>\n",
       "    </tr>\n",
       "    <tr>\n",
       "      <th>1</th>\n",
       "      <td>0.998993</td>\n",
       "      <td>0.673405</td>\n",
       "      <td>-0.008684</td>\n",
       "      <td>-0.224964</td>\n",
       "      <td>-0.051425</td>\n",
       "      <td>0.352170</td>\n",
       "      <td>0.236319</td>\n",
       "      <td>-0.393423</td>\n",
       "      <td>0.124560</td>\n",
       "      <td>0.625577</td>\n",
       "    </tr>\n",
       "    <tr>\n",
       "      <th>2</th>\n",
       "      <td>-0.278761</td>\n",
       "      <td>-2.038972</td>\n",
       "      <td>-0.008684</td>\n",
       "      <td>-0.224964</td>\n",
       "      <td>-0.051425</td>\n",
       "      <td>-0.871026</td>\n",
       "      <td>-1.754896</td>\n",
       "      <td>-0.393423</td>\n",
       "      <td>-1.767781</td>\n",
       "      <td>-0.472333</td>\n",
       "    </tr>\n",
       "    <tr>\n",
       "      <th>3</th>\n",
       "      <td>0.998993</td>\n",
       "      <td>2.196858</td>\n",
       "      <td>-0.472690</td>\n",
       "      <td>-0.224964</td>\n",
       "      <td>0.123421</td>\n",
       "      <td>0.352170</td>\n",
       "      <td>0.236319</td>\n",
       "      <td>0.616610</td>\n",
       "      <td>0.124560</td>\n",
       "      <td>0.625577</td>\n",
       "    </tr>\n",
       "    <tr>\n",
       "      <th>4</th>\n",
       "      <td>-0.278761</td>\n",
       "      <td>-1.074203</td>\n",
       "      <td>-0.008684</td>\n",
       "      <td>0.230629</td>\n",
       "      <td>0.123421</td>\n",
       "      <td>0.352170</td>\n",
       "      <td>0.236319</td>\n",
       "      <td>0.616610</td>\n",
       "      <td>0.124560</td>\n",
       "      <td>-0.580294</td>\n",
       "    </tr>\n",
       "    <tr>\n",
       "      <th>...</th>\n",
       "      <td>...</td>\n",
       "      <td>...</td>\n",
       "      <td>...</td>\n",
       "      <td>...</td>\n",
       "      <td>...</td>\n",
       "      <td>...</td>\n",
       "      <td>...</td>\n",
       "      <td>...</td>\n",
       "      <td>...</td>\n",
       "      <td>...</td>\n",
       "    </tr>\n",
       "    <tr>\n",
       "      <th>195003</th>\n",
       "      <td>-0.522108</td>\n",
       "      <td>-1.074203</td>\n",
       "      <td>-0.472690</td>\n",
       "      <td>0.230629</td>\n",
       "      <td>0.123421</td>\n",
       "      <td>-1.379019</td>\n",
       "      <td>0.236319</td>\n",
       "      <td>0.194476</td>\n",
       "      <td>0.124560</td>\n",
       "      <td>-0.472333</td>\n",
       "    </tr>\n",
       "    <tr>\n",
       "      <th>195004</th>\n",
       "      <td>-0.278761</td>\n",
       "      <td>-1.074203</td>\n",
       "      <td>-0.008684</td>\n",
       "      <td>-0.224964</td>\n",
       "      <td>0.123421</td>\n",
       "      <td>-0.871026</td>\n",
       "      <td>0.236319</td>\n",
       "      <td>0.194476</td>\n",
       "      <td>0.124560</td>\n",
       "      <td>-0.530797</td>\n",
       "    </tr>\n",
       "    <tr>\n",
       "      <th>195005</th>\n",
       "      <td>-0.278761</td>\n",
       "      <td>-1.074203</td>\n",
       "      <td>-0.472690</td>\n",
       "      <td>0.230629</td>\n",
       "      <td>0.123421</td>\n",
       "      <td>0.352170</td>\n",
       "      <td>0.236319</td>\n",
       "      <td>0.194476</td>\n",
       "      <td>0.124560</td>\n",
       "      <td>-0.472333</td>\n",
       "    </tr>\n",
       "    <tr>\n",
       "      <th>195006</th>\n",
       "      <td>0.998993</td>\n",
       "      <td>-0.473839</td>\n",
       "      <td>-0.008684</td>\n",
       "      <td>0.230629</td>\n",
       "      <td>0.123421</td>\n",
       "      <td>0.352170</td>\n",
       "      <td>0.236319</td>\n",
       "      <td>0.394573</td>\n",
       "      <td>0.124560</td>\n",
       "      <td>0.625577</td>\n",
       "    </tr>\n",
       "    <tr>\n",
       "      <th>195007</th>\n",
       "      <td>-0.278761</td>\n",
       "      <td>-1.074203</td>\n",
       "      <td>0.175196</td>\n",
       "      <td>-0.224964</td>\n",
       "      <td>0.123421</td>\n",
       "      <td>0.352170</td>\n",
       "      <td>0.236319</td>\n",
       "      <td>0.194476</td>\n",
       "      <td>0.124560</td>\n",
       "      <td>0.625577</td>\n",
       "    </tr>\n",
       "  </tbody>\n",
       "</table>\n",
       "<p>195008 rows × 10 columns</p>\n",
       "</div>"
      ],
      "text/plain": [
       "             age RevolvingUtilizationOfUnsecuredLines DebtRatio MonthlyIncome  \\\n",
       "0      -0.278761                             2.196858 -0.008684     -0.224964   \n",
       "1       0.998993                             0.673405 -0.008684     -0.224964   \n",
       "2      -0.278761                            -2.038972 -0.008684     -0.224964   \n",
       "3       0.998993                             2.196858 -0.472690     -0.224964   \n",
       "4      -0.278761                            -1.074203 -0.008684      0.230629   \n",
       "...          ...                                  ...       ...           ...   \n",
       "195003 -0.522108                            -1.074203 -0.472690      0.230629   \n",
       "195004 -0.278761                            -1.074203 -0.008684     -0.224964   \n",
       "195005 -0.278761                            -1.074203 -0.472690      0.230629   \n",
       "195006  0.998993                            -0.473839 -0.008684      0.230629   \n",
       "195007 -0.278761                            -1.074203  0.175196     -0.224964   \n",
       "\n",
       "       NumberOfOpenCreditLinesAndLoans NumberOfTime30-59DaysPastDueNotWorse  \\\n",
       "0                            -0.051425                             0.352170   \n",
       "1                            -0.051425                             0.352170   \n",
       "2                            -0.051425                            -0.871026   \n",
       "3                             0.123421                             0.352170   \n",
       "4                             0.123421                             0.352170   \n",
       "...                                ...                                  ...   \n",
       "195003                        0.123421                            -1.379019   \n",
       "195004                        0.123421                            -0.871026   \n",
       "195005                        0.123421                             0.352170   \n",
       "195006                        0.123421                             0.352170   \n",
       "195007                        0.123421                             0.352170   \n",
       "\n",
       "       NumberOfTimes90DaysLate NumberRealEstateLoansOrLines  \\\n",
       "0                     0.236319                    -0.393423   \n",
       "1                     0.236319                    -0.393423   \n",
       "2                    -1.754896                    -0.393423   \n",
       "3                     0.236319                     0.616610   \n",
       "4                     0.236319                     0.616610   \n",
       "...                        ...                          ...   \n",
       "195003                0.236319                     0.194476   \n",
       "195004                0.236319                     0.194476   \n",
       "195005                0.236319                     0.194476   \n",
       "195006                0.236319                     0.394573   \n",
       "195007                0.236319                     0.194476   \n",
       "\n",
       "       NumberOfTime60-89DaysPastDueNotWorse NumberOfDependents  \n",
       "0                                  0.124560           0.625577  \n",
       "1                                  0.124560           0.625577  \n",
       "2                                 -1.767781          -0.472333  \n",
       "3                                  0.124560           0.625577  \n",
       "4                                  0.124560          -0.580294  \n",
       "...                                     ...                ...  \n",
       "195003                             0.124560          -0.472333  \n",
       "195004                             0.124560          -0.530797  \n",
       "195005                             0.124560          -0.472333  \n",
       "195006                             0.124560           0.625577  \n",
       "195007                             0.124560           0.625577  \n",
       "\n",
       "[195008 rows x 10 columns]"
      ]
     },
     "execution_count": 108,
     "metadata": {},
     "output_type": "execute_result"
    }
   ],
   "source": [
    "model_woe"
   ]
  },
  {
   "cell_type": "code",
   "execution_count": 109,
   "metadata": {},
   "outputs": [],
   "source": [
    "#将标签补充到数据中\n",
    "model_woe[\"SeriousDlqin2yrs\"] = model_data[\"SeriousDlqin2yrs\"] "
   ]
  },
  {
   "cell_type": "code",
   "execution_count": 110,
   "metadata": {},
   "outputs": [
    {
     "data": {
      "text/html": [
       "<div>\n",
       "<style scoped>\n",
       "    .dataframe tbody tr th:only-of-type {\n",
       "        vertical-align: middle;\n",
       "    }\n",
       "\n",
       "    .dataframe tbody tr th {\n",
       "        vertical-align: top;\n",
       "    }\n",
       "\n",
       "    .dataframe thead th {\n",
       "        text-align: right;\n",
       "    }\n",
       "</style>\n",
       "<table border=\"1\" class=\"dataframe\">\n",
       "  <thead>\n",
       "    <tr style=\"text-align: right;\">\n",
       "      <th></th>\n",
       "      <th>age</th>\n",
       "      <th>RevolvingUtilizationOfUnsecuredLines</th>\n",
       "      <th>DebtRatio</th>\n",
       "      <th>MonthlyIncome</th>\n",
       "      <th>NumberOfOpenCreditLinesAndLoans</th>\n",
       "      <th>NumberOfTime30-59DaysPastDueNotWorse</th>\n",
       "      <th>NumberOfTimes90DaysLate</th>\n",
       "      <th>NumberRealEstateLoansOrLines</th>\n",
       "      <th>NumberOfTime60-89DaysPastDueNotWorse</th>\n",
       "      <th>NumberOfDependents</th>\n",
       "      <th>SeriousDlqin2yrs</th>\n",
       "    </tr>\n",
       "  </thead>\n",
       "  <tbody>\n",
       "    <tr>\n",
       "      <th>0</th>\n",
       "      <td>-0.278761</td>\n",
       "      <td>2.196858</td>\n",
       "      <td>-0.008684</td>\n",
       "      <td>-0.224964</td>\n",
       "      <td>-0.051425</td>\n",
       "      <td>0.352170</td>\n",
       "      <td>0.236319</td>\n",
       "      <td>-0.393423</td>\n",
       "      <td>0.124560</td>\n",
       "      <td>0.625577</td>\n",
       "      <td>0</td>\n",
       "    </tr>\n",
       "    <tr>\n",
       "      <th>1</th>\n",
       "      <td>0.998993</td>\n",
       "      <td>0.673405</td>\n",
       "      <td>-0.008684</td>\n",
       "      <td>-0.224964</td>\n",
       "      <td>-0.051425</td>\n",
       "      <td>0.352170</td>\n",
       "      <td>0.236319</td>\n",
       "      <td>-0.393423</td>\n",
       "      <td>0.124560</td>\n",
       "      <td>0.625577</td>\n",
       "      <td>0</td>\n",
       "    </tr>\n",
       "    <tr>\n",
       "      <th>2</th>\n",
       "      <td>-0.278761</td>\n",
       "      <td>-2.038972</td>\n",
       "      <td>-0.008684</td>\n",
       "      <td>-0.224964</td>\n",
       "      <td>-0.051425</td>\n",
       "      <td>-0.871026</td>\n",
       "      <td>-1.754896</td>\n",
       "      <td>-0.393423</td>\n",
       "      <td>-1.767781</td>\n",
       "      <td>-0.472333</td>\n",
       "      <td>1</td>\n",
       "    </tr>\n",
       "    <tr>\n",
       "      <th>3</th>\n",
       "      <td>0.998993</td>\n",
       "      <td>2.196858</td>\n",
       "      <td>-0.472690</td>\n",
       "      <td>-0.224964</td>\n",
       "      <td>0.123421</td>\n",
       "      <td>0.352170</td>\n",
       "      <td>0.236319</td>\n",
       "      <td>0.616610</td>\n",
       "      <td>0.124560</td>\n",
       "      <td>0.625577</td>\n",
       "      <td>0</td>\n",
       "    </tr>\n",
       "    <tr>\n",
       "      <th>4</th>\n",
       "      <td>-0.278761</td>\n",
       "      <td>-1.074203</td>\n",
       "      <td>-0.008684</td>\n",
       "      <td>0.230629</td>\n",
       "      <td>0.123421</td>\n",
       "      <td>0.352170</td>\n",
       "      <td>0.236319</td>\n",
       "      <td>0.616610</td>\n",
       "      <td>0.124560</td>\n",
       "      <td>-0.580294</td>\n",
       "      <td>1</td>\n",
       "    </tr>\n",
       "  </tbody>\n",
       "</table>\n",
       "</div>"
      ],
      "text/plain": [
       "        age RevolvingUtilizationOfUnsecuredLines DebtRatio MonthlyIncome  \\\n",
       "0 -0.278761                             2.196858 -0.008684     -0.224964   \n",
       "1  0.998993                             0.673405 -0.008684     -0.224964   \n",
       "2 -0.278761                            -2.038972 -0.008684     -0.224964   \n",
       "3  0.998993                             2.196858 -0.472690     -0.224964   \n",
       "4 -0.278761                            -1.074203 -0.008684      0.230629   \n",
       "\n",
       "  NumberOfOpenCreditLinesAndLoans NumberOfTime30-59DaysPastDueNotWorse  \\\n",
       "0                       -0.051425                             0.352170   \n",
       "1                       -0.051425                             0.352170   \n",
       "2                       -0.051425                            -0.871026   \n",
       "3                        0.123421                             0.352170   \n",
       "4                        0.123421                             0.352170   \n",
       "\n",
       "  NumberOfTimes90DaysLate NumberRealEstateLoansOrLines  \\\n",
       "0                0.236319                    -0.393423   \n",
       "1                0.236319                    -0.393423   \n",
       "2               -1.754896                    -0.393423   \n",
       "3                0.236319                     0.616610   \n",
       "4                0.236319                     0.616610   \n",
       "\n",
       "  NumberOfTime60-89DaysPastDueNotWorse NumberOfDependents  SeriousDlqin2yrs  \n",
       "0                             0.124560           0.625577                 0  \n",
       "1                             0.124560           0.625577                 0  \n",
       "2                            -1.767781          -0.472333                 1  \n",
       "3                             0.124560           0.625577                 0  \n",
       "4                             0.124560          -0.580294                 1  "
      ]
     },
     "execution_count": 110,
     "metadata": {},
     "output_type": "execute_result"
    }
   ],
   "source": [
    "#这就是我们的建模数据了\n",
    "model_woe.head()"
   ]
  },
  {
   "cell_type": "code",
   "execution_count": 111,
   "metadata": {},
   "outputs": [],
   "source": [
    "#3.5 建模与模型验证"
   ]
  },
  {
   "cell_type": "code",
   "execution_count": 112,
   "metadata": {},
   "outputs": [],
   "source": [
    "#处理测试集\n",
    "vali_woe = pd.DataFrame(index=vali_data.index)\n",
    "for col in bins_of_col:\n",
    "    vali_woe[col] = pd.cut(vali_data[col],bins_of_col[col]).map(woeall[col])\n",
    "vali_woe[\"SeriousDlqin2yrs\"] = vali_data[\"SeriousDlqin2yrs\"]"
   ]
  },
  {
   "cell_type": "code",
   "execution_count": 113,
   "metadata": {},
   "outputs": [
    {
     "data": {
      "text/html": [
       "<div>\n",
       "<style scoped>\n",
       "    .dataframe tbody tr th:only-of-type {\n",
       "        vertical-align: middle;\n",
       "    }\n",
       "\n",
       "    .dataframe tbody tr th {\n",
       "        vertical-align: top;\n",
       "    }\n",
       "\n",
       "    .dataframe thead th {\n",
       "        text-align: right;\n",
       "    }\n",
       "</style>\n",
       "<table border=\"1\" class=\"dataframe\">\n",
       "  <thead>\n",
       "    <tr style=\"text-align: right;\">\n",
       "      <th></th>\n",
       "      <th>RevolvingUtilizationOfUnsecuredLines</th>\n",
       "      <th>age</th>\n",
       "      <th>DebtRatio</th>\n",
       "      <th>MonthlyIncome</th>\n",
       "      <th>NumberOfOpenCreditLinesAndLoans</th>\n",
       "      <th>NumberOfTime30-59DaysPastDueNotWorse</th>\n",
       "      <th>NumberOfTimes90DaysLate</th>\n",
       "      <th>NumberRealEstateLoansOrLines</th>\n",
       "      <th>NumberOfTime60-89DaysPastDueNotWorse</th>\n",
       "      <th>NumberOfDependents</th>\n",
       "      <th>SeriousDlqin2yrs</th>\n",
       "    </tr>\n",
       "  </thead>\n",
       "  <tbody>\n",
       "    <tr>\n",
       "      <th>0</th>\n",
       "      <td>2.196858</td>\n",
       "      <td>0.251124</td>\n",
       "      <td>1.474877</td>\n",
       "      <td>-0.224964</td>\n",
       "      <td>-0.051425</td>\n",
       "      <td>0.352170</td>\n",
       "      <td>0.236319</td>\n",
       "      <td>-0.393423</td>\n",
       "      <td>0.124560</td>\n",
       "      <td>0.625577</td>\n",
       "      <td>0</td>\n",
       "    </tr>\n",
       "    <tr>\n",
       "      <th>1</th>\n",
       "      <td>-1.074203</td>\n",
       "      <td>-0.278761</td>\n",
       "      <td>-0.008684</td>\n",
       "      <td>0.230629</td>\n",
       "      <td>0.123421</td>\n",
       "      <td>0.352170</td>\n",
       "      <td>0.236319</td>\n",
       "      <td>0.616610</td>\n",
       "      <td>0.124560</td>\n",
       "      <td>-0.472333</td>\n",
       "      <td>1</td>\n",
       "    </tr>\n",
       "    <tr>\n",
       "      <th>2</th>\n",
       "      <td>2.196858</td>\n",
       "      <td>0.998993</td>\n",
       "      <td>-0.008684</td>\n",
       "      <td>0.230629</td>\n",
       "      <td>-0.051425</td>\n",
       "      <td>0.352170</td>\n",
       "      <td>0.236319</td>\n",
       "      <td>-0.393423</td>\n",
       "      <td>0.124560</td>\n",
       "      <td>0.625577</td>\n",
       "      <td>0</td>\n",
       "    </tr>\n",
       "    <tr>\n",
       "      <th>3</th>\n",
       "      <td>2.196858</td>\n",
       "      <td>-0.278761</td>\n",
       "      <td>-0.008684</td>\n",
       "      <td>-0.224964</td>\n",
       "      <td>0.123421</td>\n",
       "      <td>0.352170</td>\n",
       "      <td>0.236319</td>\n",
       "      <td>0.194476</td>\n",
       "      <td>0.124560</td>\n",
       "      <td>0.625577</td>\n",
       "      <td>0</td>\n",
       "    </tr>\n",
       "    <tr>\n",
       "      <th>4</th>\n",
       "      <td>-1.074203</td>\n",
       "      <td>-0.278761</td>\n",
       "      <td>-0.008684</td>\n",
       "      <td>-0.224964</td>\n",
       "      <td>0.123421</td>\n",
       "      <td>0.352170</td>\n",
       "      <td>0.236319</td>\n",
       "      <td>-0.393423</td>\n",
       "      <td>0.124560</td>\n",
       "      <td>-0.580294</td>\n",
       "      <td>1</td>\n",
       "    </tr>\n",
       "    <tr>\n",
       "      <th>...</th>\n",
       "      <td>...</td>\n",
       "      <td>...</td>\n",
       "      <td>...</td>\n",
       "      <td>...</td>\n",
       "      <td>...</td>\n",
       "      <td>...</td>\n",
       "      <td>...</td>\n",
       "      <td>...</td>\n",
       "      <td>...</td>\n",
       "      <td>...</td>\n",
       "      <td>...</td>\n",
       "    </tr>\n",
       "    <tr>\n",
       "      <th>83571</th>\n",
       "      <td>-2.038972</td>\n",
       "      <td>-0.278761</td>\n",
       "      <td>0.175196</td>\n",
       "      <td>-0.224964</td>\n",
       "      <td>-0.859561</td>\n",
       "      <td>0.352170</td>\n",
       "      <td>0.236319</td>\n",
       "      <td>-0.393423</td>\n",
       "      <td>0.124560</td>\n",
       "      <td>-0.580294</td>\n",
       "      <td>1</td>\n",
       "    </tr>\n",
       "    <tr>\n",
       "      <th>83572</th>\n",
       "      <td>-1.074203</td>\n",
       "      <td>-0.278761</td>\n",
       "      <td>-0.008684</td>\n",
       "      <td>-0.224964</td>\n",
       "      <td>0.123421</td>\n",
       "      <td>-1.379019</td>\n",
       "      <td>0.236319</td>\n",
       "      <td>-0.393423</td>\n",
       "      <td>0.124560</td>\n",
       "      <td>-0.472333</td>\n",
       "      <td>1</td>\n",
       "    </tr>\n",
       "    <tr>\n",
       "      <th>83573</th>\n",
       "      <td>-1.074203</td>\n",
       "      <td>-0.278761</td>\n",
       "      <td>-0.008684</td>\n",
       "      <td>0.230629</td>\n",
       "      <td>-0.324824</td>\n",
       "      <td>0.352170</td>\n",
       "      <td>0.236319</td>\n",
       "      <td>-0.393423</td>\n",
       "      <td>0.124560</td>\n",
       "      <td>-0.472333</td>\n",
       "      <td>1</td>\n",
       "    </tr>\n",
       "    <tr>\n",
       "      <th>83574</th>\n",
       "      <td>-1.074203</td>\n",
       "      <td>-0.278761</td>\n",
       "      <td>-0.008684</td>\n",
       "      <td>-0.224964</td>\n",
       "      <td>-0.324824</td>\n",
       "      <td>-0.871026</td>\n",
       "      <td>-2.407176</td>\n",
       "      <td>-0.393423</td>\n",
       "      <td>0.124560</td>\n",
       "      <td>-0.472333</td>\n",
       "      <td>1</td>\n",
       "    </tr>\n",
       "    <tr>\n",
       "      <th>83575</th>\n",
       "      <td>-1.074203</td>\n",
       "      <td>-0.278761</td>\n",
       "      <td>-0.008684</td>\n",
       "      <td>-0.224964</td>\n",
       "      <td>0.123421</td>\n",
       "      <td>-1.541517</td>\n",
       "      <td>-1.754896</td>\n",
       "      <td>0.194476</td>\n",
       "      <td>-1.767781</td>\n",
       "      <td>-0.530797</td>\n",
       "      <td>1</td>\n",
       "    </tr>\n",
       "  </tbody>\n",
       "</table>\n",
       "<p>83576 rows × 11 columns</p>\n",
       "</div>"
      ],
      "text/plain": [
       "      RevolvingUtilizationOfUnsecuredLines       age DebtRatio MonthlyIncome  \\\n",
       "0                                 2.196858  0.251124  1.474877     -0.224964   \n",
       "1                                -1.074203 -0.278761 -0.008684      0.230629   \n",
       "2                                 2.196858  0.998993 -0.008684      0.230629   \n",
       "3                                 2.196858 -0.278761 -0.008684     -0.224964   \n",
       "4                                -1.074203 -0.278761 -0.008684     -0.224964   \n",
       "...                                    ...       ...       ...           ...   \n",
       "83571                            -2.038972 -0.278761  0.175196     -0.224964   \n",
       "83572                            -1.074203 -0.278761 -0.008684     -0.224964   \n",
       "83573                            -1.074203 -0.278761 -0.008684      0.230629   \n",
       "83574                            -1.074203 -0.278761 -0.008684     -0.224964   \n",
       "83575                            -1.074203 -0.278761 -0.008684     -0.224964   \n",
       "\n",
       "      NumberOfOpenCreditLinesAndLoans NumberOfTime30-59DaysPastDueNotWorse  \\\n",
       "0                           -0.051425                             0.352170   \n",
       "1                            0.123421                             0.352170   \n",
       "2                           -0.051425                             0.352170   \n",
       "3                            0.123421                             0.352170   \n",
       "4                            0.123421                             0.352170   \n",
       "...                               ...                                  ...   \n",
       "83571                       -0.859561                             0.352170   \n",
       "83572                        0.123421                            -1.379019   \n",
       "83573                       -0.324824                             0.352170   \n",
       "83574                       -0.324824                            -0.871026   \n",
       "83575                        0.123421                            -1.541517   \n",
       "\n",
       "      NumberOfTimes90DaysLate NumberRealEstateLoansOrLines  \\\n",
       "0                    0.236319                    -0.393423   \n",
       "1                    0.236319                     0.616610   \n",
       "2                    0.236319                    -0.393423   \n",
       "3                    0.236319                     0.194476   \n",
       "4                    0.236319                    -0.393423   \n",
       "...                       ...                          ...   \n",
       "83571                0.236319                    -0.393423   \n",
       "83572                0.236319                    -0.393423   \n",
       "83573                0.236319                    -0.393423   \n",
       "83574               -2.407176                    -0.393423   \n",
       "83575               -1.754896                     0.194476   \n",
       "\n",
       "      NumberOfTime60-89DaysPastDueNotWorse NumberOfDependents  \\\n",
       "0                                 0.124560           0.625577   \n",
       "1                                 0.124560          -0.472333   \n",
       "2                                 0.124560           0.625577   \n",
       "3                                 0.124560           0.625577   \n",
       "4                                 0.124560          -0.580294   \n",
       "...                                    ...                ...   \n",
       "83571                             0.124560          -0.580294   \n",
       "83572                             0.124560          -0.472333   \n",
       "83573                             0.124560          -0.472333   \n",
       "83574                             0.124560          -0.472333   \n",
       "83575                            -1.767781          -0.530797   \n",
       "\n",
       "       SeriousDlqin2yrs  \n",
       "0                     0  \n",
       "1                     1  \n",
       "2                     0  \n",
       "3                     0  \n",
       "4                     1  \n",
       "...                 ...  \n",
       "83571                 1  \n",
       "83572                 1  \n",
       "83573                 1  \n",
       "83574                 1  \n",
       "83575                 1  \n",
       "\n",
       "[83576 rows x 11 columns]"
      ]
     },
     "execution_count": 113,
     "metadata": {},
     "output_type": "execute_result"
    }
   ],
   "source": [
    "vali_woe"
   ]
  },
  {
   "cell_type": "code",
   "execution_count": 114,
   "metadata": {},
   "outputs": [],
   "source": [
    "vali_X = vali_woe.iloc[:,:-1]\n",
    "vali_y = vali_woe.iloc[:,-1]"
   ]
  },
  {
   "cell_type": "code",
   "execution_count": 115,
   "metadata": {},
   "outputs": [
    {
     "data": {
      "text/plain": [
       "0.7742174787020197"
      ]
     },
     "execution_count": 115,
     "metadata": {},
     "output_type": "execute_result"
    }
   ],
   "source": [
    "X = model_woe.iloc[:,:-1] \n",
    "y = model_woe.iloc[:,-1]\n",
    "from sklearn.linear_model import LogisticRegression as LR\n",
    "lr = LR().fit(X,y)\n",
    "lr.score(vali_X,vali_y)"
   ]
  },
  {
   "cell_type": "code",
   "execution_count": 116,
   "metadata": {},
   "outputs": [
    {
     "data": {
      "image/png": "[encoded data removed]",
      "text/plain": [
       "<Figure size 432x288 with 1 Axes>"
      ]
     },
     "metadata": {
      "needs_background": "light"
     },
     "output_type": "display_data"
    }
   ],
   "source": [
    "c_1 = np.linspace(0.01,1,20)\n",
    "c_2 = np.linspace(0.01,0.2,20)\n",
    "score = []\n",
    "for i in c_2: \n",
    "    lr = LR(solver='liblinear',C=i).fit(X,y)\n",
    "    score.append(lr.score(vali_X,vali_y))\n",
    "plt.figure()\n",
    "plt.plot(c_2,score)\n",
    "plt.show()"
   ]
  },
  {
   "cell_type": "code",
   "execution_count": 117,
   "metadata": {},
   "outputs": [
    {
     "data": {
      "text/plain": [
       "array([5], dtype=int32)"
      ]
     },
     "execution_count": 117,
     "metadata": {},
     "output_type": "execute_result"
    }
   ],
   "source": [
    "lr.n_iter_"
   ]
  },
  {
   "cell_type": "code",
   "execution_count": 118,
   "metadata": {},
   "outputs": [
    {
     "name": "stderr",
     "output_type": "stream",
     "text": [
      "H:\\work user\\Anaconda\\lib\\site-packages\\sklearn\\svm\\_base.py:985: ConvergenceWarning: Liblinear failed to converge, increase the number of iterations.\n",
      "  warnings.warn(\"Liblinear failed to converge, increase \"\n",
      "H:\\work user\\Anaconda\\lib\\site-packages\\sklearn\\svm\\_base.py:985: ConvergenceWarning: Liblinear failed to converge, increase the number of iterations.\n",
      "  warnings.warn(\"Liblinear failed to converge, increase \"\n",
      "H:\\work user\\Anaconda\\lib\\site-packages\\sklearn\\svm\\_base.py:985: ConvergenceWarning: Liblinear failed to converge, increase the number of iterations.\n",
      "  warnings.warn(\"Liblinear failed to converge, increase \"\n",
      "H:\\work user\\Anaconda\\lib\\site-packages\\sklearn\\svm\\_base.py:985: ConvergenceWarning: Liblinear failed to converge, increase the number of iterations.\n",
      "  warnings.warn(\"Liblinear failed to converge, increase \"\n",
      "H:\\work user\\Anaconda\\lib\\site-packages\\sklearn\\svm\\_base.py:985: ConvergenceWarning: Liblinear failed to converge, increase the number of iterations.\n",
      "  warnings.warn(\"Liblinear failed to converge, increase \"\n"
     ]
    },
    {
     "data": {
      "image/png": "[encoded data removed]",
      "text/plain": [
       "<Figure size 432x288 with 1 Axes>"
      ]
     },
     "metadata": {
      "needs_background": "light"
     },
     "output_type": "display_data"
    }
   ],
   "source": [
    "score = []\n",
    "for i in [1,2,3,4,5,6]: \n",
    "    lr = LR(solver='liblinear',C=0.025,max_iter=i).fit(X,y)\n",
    "    score.append(lr.score(vali_X,vali_y))\n",
    "plt.figure()\n",
    "plt.plot([1,2,3,4,5,6],score)\n",
    "plt.show()"
   ]
  },
  {
   "cell_type": "code",
   "execution_count": 119,
   "metadata": {},
   "outputs": [
    {
     "data": {
      "text/plain": [
       "<AxesSubplot:title={'center':'ROC Curves'}, xlabel='False Positive Rate', ylabel='True Positive Rate'>"
      ]
     },
     "execution_count": 119,
     "metadata": {},
     "output_type": "execute_result"
    },
    {
     "data": {
      "image/png": "[encoded data removed]",
      "text/plain": [
       "<Figure size 432x432 with 1 Axes>"
      ]
     },
     "metadata": {
      "needs_background": "light"
     },
     "output_type": "display_data"
    }
   ],
   "source": [
    "# ROC曲线上的结果\n",
    "import scikitplot as skplt\n",
    "#%%cmd\n",
    "#pip install scikit-plot\n",
    "vali_proba_df = pd.DataFrame(lr.predict_proba(vali_X))\n",
    "skplt.metrics.plot_roc(vali_y, vali_proba_df,\n",
    "                        plot_micro=False,figsize=(6,6),\n",
    "                        plot_macro=False)"
   ]
  },
  {
   "cell_type": "code",
   "execution_count": 120,
   "metadata": {},
   "outputs": [
    {
     "data": {
      "text/plain": [
       "(28.85390081777927, 481.8621880878296)"
      ]
     },
     "execution_count": 120,
     "metadata": {},
     "output_type": "execute_result"
    }
   ],
   "source": [
    "B = 20/np.log(2) \n",
    "A = 600 + B*np.log(1/60) \n",
    "B,A"
   ]
  },
  {
   "cell_type": "code",
   "execution_count": 121,
   "metadata": {},
   "outputs": [],
   "source": [
    "base_score = A - B*lr.intercept_\n",
    "base_score"
   ]
  },
  {
   "cell_type": "code",
   "execution_count": 124,
   "metadata": {},
   "outputs": [],
   "source": [
    "woeall"
   ]
  },
  {
   "cell_type": "code",
   "execution_count": 126,
   "metadata": {},
   "outputs": [
    {
     "data": {
      "text/plain": [
       "age\n",
       "(-inf, 36.0]   -0.522108\n",
       "(36.0, 54.0]   -0.278761\n",
       "(54.0, 61.0]    0.251124\n",
       "(61.0, 74.0]    0.998993\n",
       "(74.0, inf]     1.723725\n",
       "dtype: float64"
      ]
     },
     "execution_count": 126,
     "metadata": {},
     "output_type": "execute_result"
    }
   ],
   "source": [
    "woeall[\"age\"]"
   ]
  },
  {
   "cell_type": "code",
   "execution_count": 122,
   "metadata": {},
   "outputs": [
    {
     "data": {
      "text/plain": [
       "cut\n",
       "(-inf, 36.0]    -4.174486\n",
       "(36.0, 54.0]    -2.228816\n",
       "(54.0, 61.0]     2.007849\n",
       "(61.0, 74.0]     7.987391\n",
       "(74.0, inf]     13.781942\n",
       "dtype: float64"
      ]
     },
     "execution_count": 122,
     "metadata": {},
     "output_type": "execute_result"
    }
   ],
   "source": [
    "score_age = woeall[\"age\"] * (-B*lr.coef_[0][0])\n",
    "score_age\n",
    "#每个箱对应的分数"
   ]
  },
  {
   "cell_type": "code",
   "execution_count": 125,
   "metadata": {},
   "outputs": [],
   "source": [
    "file =\"H:/学习小分队/机器学习/sklearn学习_jb51/【机器学习】菜菜的sklearn课堂(1-12全课)/05逻辑回归与评分卡/ScoreData.csv\"\n",
    "#open是用来打开文件的python命令，第一个参数是文件的路径+文件名，如果你的文件是放在根目录下，则你只需要文件名就好\n",
    "#第二个参数是打开文件后的用途，\"w\"表示用于写入，通常使用的是\"r\"，表示打开来阅读\n",
    "#首先写入基准分数\n",
    "#之后使用循环，每次生成一组score_age类似的分档和分数，不断写入文件之中\n",
    "with open(file,\"w\") as fdata:\n",
    "    fdata.write(\"base_score,{}\\n\".format(base_score))\n",
    "for i,col in enumerate(X.columns):\n",
    "    score = woeall[col] * (-B*lr.coef_[0][i])\n",
    "    score.name = \"Score\"\n",
    "    score.index.name = col\n",
    "    score.to_csv(file,header=True,mode=\"a\")"
   ]
  }
 ],
 "metadata": {
  "kernelspec": {
   "display_name": "Python 3",
   "language": "python",
   "name": "python3"
  },
  "language_info": {
   "codemirror_mode": {
    "name": "ipython",
    "version": 3
   },
   "file_extension": ".py",
   "mimetype": "text/x-python",
   "name": "python",
   "nbconvert_exporter": "python",
   "pygments_lexer": "ipython3",
   "version": "3.8.5"
  }
 },
 "nbformat": 4,
 "nbformat_minor": 4
}
