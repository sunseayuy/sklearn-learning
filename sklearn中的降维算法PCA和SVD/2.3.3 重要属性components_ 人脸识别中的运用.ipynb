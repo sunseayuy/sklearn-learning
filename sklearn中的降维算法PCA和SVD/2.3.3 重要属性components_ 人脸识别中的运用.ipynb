{
 "cells": [
  {
   "cell_type": "code",
   "execution_count": 5,
   "metadata": {},
   "outputs": [],
   "source": [
    "from sklearn.datasets import fetch_lfw_people\n",
    "from sklearn.decomposition import PCA\n",
    "import matplotlib.pyplot as plt\n",
    "import numpy as np"
   ]
  },
  {
   "cell_type": "code",
   "execution_count": 10,
   "metadata": {},
   "outputs": [],
   "source": [
    "faces = fetch_lfw_people(min_faces_per_person=60)"
   ]
  },
  {
   "cell_type": "code",
   "execution_count": 11,
   "metadata": {
    "collapsed": true,
    "jupyter": {
     "outputs_hidden": true
    }
   },
   "outputs": [
    {
     "data": {
      "text/plain": [
       "{'data': array([[188.66667  , 187.33333  , 187.66667  , ...,  86.333336 ,\n",
       "          84.666664 ,  83.       ],\n",
       "        [ 35.666668 ,  34.       ,  33.       , ..., 191.       ,\n",
       "         183.       , 173.66667  ],\n",
       "        [ 74.       ,  78.333336 ,  88.666664 , ...,  97.666664 ,\n",
       "          99.       ,  97.666664 ],\n",
       "        ...,\n",
       "        [ 39.       ,  51.       ,  67.666664 , ..., 214.33333  ,\n",
       "         164.       ,  77.333336 ],\n",
       "        [ 34.       ,  35.666668 ,  42.666668 , ..., 112.666664 ,\n",
       "         112.333336 , 114.       ],\n",
       "        [  1.3333334,   2.       ,   3.3333333, ...,  64.333336 ,\n",
       "          33.666668 ,   6.6666665]], dtype=float32),\n",
       " 'images': array([[[188.66667  , 187.33333  , 187.66667  , ...,  95.333336 ,\n",
       "           73.666664 ,  34.       ],\n",
       "         [187.33333  , 186.       , 186.33333  , ...,  96.       ,\n",
       "           74.       ,  35.       ],\n",
       "         [186.66667  , 186.       , 185.33333  , ...,  94.333336 ,\n",
       "           74.333336 ,  35.666668 ],\n",
       "         ...,\n",
       "         [121.       , 120.       , 119.333336 , ...,  90.666664 ,\n",
       "           88.       ,  86.       ],\n",
       "         [119.666664 , 119.333336 , 119.       , ...,  88.666664 ,\n",
       "           86.666664 ,  85.       ],\n",
       "         [117.666664 , 117.333336 , 118.333336 , ...,  86.333336 ,\n",
       "           84.666664 ,  83.       ]],\n",
       " \n",
       "        [[ 35.666668 ,  34.       ,  33.       , ...,  98.333336 ,\n",
       "           86.666664 ,  82.666664 ],\n",
       "         [ 37.666668 ,  37.333332 ,  39.       , ...,  99.666664 ,\n",
       "           92.333336 ,  89.       ],\n",
       "         [ 38.333332 ,  38.666668 ,  38.333332 , ..., 102.666664 ,\n",
       "           96.666664 ,  95.666664 ],\n",
       "         ...,\n",
       "         [  6.       ,   5.       ,  12.666667 , ..., 133.       ,\n",
       "          180.66667  , 179.       ],\n",
       "         [  7.3333335,   7.       ,  15.666667 , ..., 177.66667  ,\n",
       "          186.33333  , 179.       ],\n",
       "         [  9.       ,  11.333333 ,  18.666666 , ..., 191.       ,\n",
       "          183.       , 173.66667  ]],\n",
       " \n",
       "        [[ 74.       ,  78.333336 ,  88.666664 , ..., 131.66667  ,\n",
       "          135.66667  , 127.       ],\n",
       "         [ 70.666664 ,  74.666664 ,  88.333336 , ..., 118.666664 ,\n",
       "          147.33333  , 134.66667  ],\n",
       "         [ 69.333336 ,  75.333336 ,  82.666664 , ..., 115.       ,\n",
       "          143.33333  , 151.33333  ],\n",
       "         ...,\n",
       "         [ 16.666666 ,  39.       , 158.66667  , ...,  96.666664 ,\n",
       "           97.666664 , 100.333336 ],\n",
       "         [ 31.666666 ,  25.333334 , 112.       , ...,  97.666664 ,\n",
       "           99.333336 , 101.       ],\n",
       "         [ 40.666668 ,  28.333334 ,  72.333336 , ...,  97.666664 ,\n",
       "           99.       ,  97.666664 ]],\n",
       " \n",
       "        ...,\n",
       " \n",
       "        [[ 39.       ,  51.       ,  67.666664 , ...,  84.       ,\n",
       "           51.333332 ,  36.666668 ],\n",
       "         [ 36.333332 ,  56.       ,  81.666664 , ..., 112.       ,\n",
       "           72.       ,  42.333332 ],\n",
       "         [ 36.666668 ,  64.666664 ,  99.333336 , ..., 132.66667  ,\n",
       "           95.       ,  56.666668 ],\n",
       "         ...,\n",
       "         [ 39.333332 ,  36.       ,  81.333336 , ..., 204.       ,\n",
       "          142.33333  ,  62.666668 ],\n",
       "         [ 37.       ,  35.       ,  83.333336 , ..., 207.33333  ,\n",
       "          152.33333  ,  71.333336 ],\n",
       "         [ 40.333332 ,  34.       ,  73.333336 , ..., 214.33333  ,\n",
       "          164.       ,  77.333336 ]],\n",
       " \n",
       "        [[ 34.       ,  35.666668 ,  42.666668 , ...,  62.666668 ,\n",
       "           42.       ,  44.       ],\n",
       "         [ 34.       ,  38.666668 ,  53.666668 , ...,  81.       ,\n",
       "           50.       ,  39.666668 ],\n",
       "         [ 37.       ,  45.666668 ,  66.666664 , ...,  97.666664 ,\n",
       "           64.       ,  43.       ],\n",
       "         ...,\n",
       "         [ 51.333332 , 117.       , 202.33333  , ..., 164.       ,\n",
       "          162.33333  , 158.       ],\n",
       "         [ 33.666668 ,  48.666668 , 128.66667  , ..., 133.33333  ,\n",
       "          131.66667  , 129.33333  ],\n",
       "         [ 31.       ,  31.666666 ,  62.333332 , ..., 112.666664 ,\n",
       "          112.333336 , 114.       ]],\n",
       " \n",
       "        [[  1.3333334,   2.       ,   3.3333333, ...,  57.       ,\n",
       "           47.666668 ,  36.666668 ],\n",
       "         [  1.3333334,   2.       ,   3.3333333, ...,  65.333336 ,\n",
       "           65.333336 ,  60.333332 ],\n",
       "         [  2.       ,   2.       ,   3.3333333, ...,  66.       ,\n",
       "           77.666664 ,  86.333336 ],\n",
       "         ...,\n",
       "         [  5.3333335,   5.3333335,   5.       , ...,  76.333336 ,\n",
       "           50.       ,  15.666667 ],\n",
       "         [  5.6666665,   6.       ,   5.6666665, ...,  70.666664 ,\n",
       "           41.666668 ,  10.666667 ],\n",
       "         [  6.       ,   6.       ,   6.       , ...,  64.333336 ,\n",
       "           33.666668 ,   6.6666665]]], dtype=float32),\n",
       " 'target': array([0, 0, 0, 1, 0, 0, 0, 0, 0, 0, 0, 0, 0, 0, 0, 0, 0, 0, 1, 0, 0, 1,\n",
       "        0, 0, 0, 0, 0, 0, 1, 1, 0, 0, 0, 1, 0, 0, 0, 0, 1, 0, 0, 0, 0, 1,\n",
       "        0, 1, 0, 0, 0, 0, 0, 1, 1, 1, 0, 1, 0, 0, 0, 0, 0, 0, 0, 0, 1, 0,\n",
       "        0, 0, 0, 0, 0, 0, 1, 1, 1, 1, 0, 0, 1, 0, 0, 1, 0, 0, 0, 1, 1, 0,\n",
       "        1, 0, 1, 0, 1, 1, 0, 0, 0, 0, 1, 0, 0, 1, 1, 1, 0, 0, 0, 1, 0, 1,\n",
       "        1, 0, 0, 0, 0, 0, 0, 0, 1, 0, 1, 0, 0, 0, 0, 0, 0, 1, 0, 0, 1, 0,\n",
       "        0, 0, 0, 1, 0, 0, 0, 0, 0, 0, 0, 0, 1, 0, 0, 0, 1, 0, 0, 0, 0, 0,\n",
       "        1, 0, 1, 0, 0, 0, 0, 0, 0, 0, 1, 1, 0, 0, 0, 1, 0, 1, 0, 1, 0, 1,\n",
       "        0, 1, 0, 1, 0, 0, 0, 1, 0, 0, 0, 0, 1, 0, 1, 1, 1, 1, 0, 0, 1, 0,\n",
       "        0, 1, 0, 0, 1, 1, 0, 0, 1, 0, 1, 0, 0, 1, 0, 0, 1, 0, 1, 0, 0, 0,\n",
       "        1, 0, 1, 0, 1, 0, 0, 0, 0, 0, 0, 0, 0, 0, 0, 0, 0, 0, 0, 1, 0, 0,\n",
       "        1, 0, 1, 0, 0, 0, 0, 0, 1, 0, 0, 0, 1, 0, 0, 1, 0, 0, 1, 0, 0, 1,\n",
       "        0, 0, 0, 0, 0, 0, 0, 1, 0, 1, 0, 1, 0, 1, 0, 1, 0, 0, 0, 0, 0, 0,\n",
       "        0, 0, 0, 1, 1, 0, 1, 1, 0, 0, 0, 1, 1, 0, 1, 1, 1, 0, 0, 0, 0, 0,\n",
       "        1, 0, 0, 0, 0, 0, 0, 0, 1, 0, 0, 1, 0, 0, 1, 0, 1, 0, 1, 0, 1, 1,\n",
       "        1, 0, 0, 0, 0, 0, 1, 0, 0, 0, 0, 0, 0, 0, 1, 0, 1, 0, 1, 1, 0, 1,\n",
       "        0, 0, 0, 0, 0, 1, 0, 0, 1, 0, 0, 0, 0, 1, 1, 0], dtype=int64),\n",
       " 'target_names': array(['George W Bush', 'Gerhard Schroeder'], dtype='<U17'),\n",
       " 'DESCR': \".. _labeled_faces_in_the_wild_dataset:\\n\\nThe Labeled Faces in the Wild face recognition dataset\\n------------------------------------------------------\\n\\nThis dataset is a collection of JPEG pictures of famous people collected\\nover the internet, all details are available on the official website:\\n\\n    http://vis-www.cs.umass.edu/lfw/\\n\\nEach picture is centered on a single face. The typical task is called\\nFace Verification: given a pair of two pictures, a binary classifier\\nmust predict whether the two images are from the same person.\\n\\nAn alternative task, Face Recognition or Face Identification is:\\ngiven the picture of the face of an unknown person, identify the name\\nof the person by referring to a gallery of previously seen pictures of\\nidentified persons.\\n\\nBoth Face Verification and Face Recognition are tasks that are typically\\nperformed on the output of a model trained to perform Face Detection. The\\nmost popular model for Face Detection is called Viola-Jones and is\\nimplemented in the OpenCV library. The LFW faces were extracted by this\\nface detector from various online websites.\\n\\n**Data Set Characteristics:**\\n\\n    =================   =======================\\n    Classes                                5749\\n    Samples total                         13233\\n    Dimensionality                         5828\\n    Features            real, between 0 and 255\\n    =================   =======================\\n\\nUsage\\n~~~~~\\n\\n``scikit-learn`` provides two loaders that will automatically download,\\ncache, parse the metadata files, decode the jpeg and convert the\\ninteresting slices into memmapped numpy arrays. This dataset size is more\\nthan 200 MB. The first load typically takes more than a couple of minutes\\nto fully decode the relevant part of the JPEG files into numpy arrays. If\\nthe dataset has  been loaded once, the following times the loading times\\nless than 200ms by using a memmapped version memoized on the disk in the\\n``~/scikit_learn_data/lfw_home/`` folder using ``joblib``.\\n\\nThe first loader is used for the Face Identification task: a multi-class\\nclassification task (hence supervised learning)::\\n\\n  >>> from sklearn.datasets import fetch_lfw_people\\n  >>> lfw_people = fetch_lfw_people(min_faces_per_person=70, resize=0.4)\\n\\n  >>> for name in lfw_people.target_names:\\n  ...     print(name)\\n  ...\\n  Ariel Sharon\\n  Colin Powell\\n  Donald Rumsfeld\\n  George W Bush\\n  Gerhard Schroeder\\n  Hugo Chavez\\n  Tony Blair\\n\\nThe default slice is a rectangular shape around the face, removing\\nmost of the background::\\n\\n  >>> lfw_people.data.dtype\\n  dtype('float32')\\n\\n  >>> lfw_people.data.shape\\n  (1288, 1850)\\n\\n  >>> lfw_people.images.shape\\n  (1288, 50, 37)\\n\\nEach of the ``1140`` faces is assigned to a single person id in the ``target``\\narray::\\n\\n  >>> lfw_people.target.shape\\n  (1288,)\\n\\n  >>> list(lfw_people.target[:10])\\n  [5, 6, 3, 1, 0, 1, 3, 4, 3, 0]\\n\\nThe second loader is typically used for the face verification task: each sample\\nis a pair of two picture belonging or not to the same person::\\n\\n  >>> from sklearn.datasets import fetch_lfw_pairs\\n  >>> lfw_pairs_train = fetch_lfw_pairs(subset='train')\\n\\n  >>> list(lfw_pairs_train.target_names)\\n  ['Different persons', 'Same person']\\n\\n  >>> lfw_pairs_train.pairs.shape\\n  (2200, 2, 62, 47)\\n\\n  >>> lfw_pairs_train.data.shape\\n  (2200, 5828)\\n\\n  >>> lfw_pairs_train.target.shape\\n  (2200,)\\n\\nBoth for the :func:`sklearn.datasets.fetch_lfw_people` and\\n:func:`sklearn.datasets.fetch_lfw_pairs` function it is\\npossible to get an additional dimension with the RGB color channels by\\npassing ``color=True``, in that case the shape will be\\n``(2200, 2, 62, 47, 3)``.\\n\\nThe :func:`sklearn.datasets.fetch_lfw_pairs` datasets is subdivided into\\n3 subsets: the development ``train`` set, the development ``test`` set and\\nan evaluation ``10_folds`` set meant to compute performance metrics using a\\n10-folds cross validation scheme.\\n\\n.. topic:: References:\\n\\n * `Labeled Faces in the Wild: A Database for Studying Face Recognition\\n   in Unconstrained Environments.\\n   <http://vis-www.cs.umass.edu/lfw/lfw.pdf>`_\\n   Gary B. Huang, Manu Ramesh, Tamara Berg, and Erik Learned-Miller.\\n   University of Massachusetts, Amherst, Technical Report 07-49, October, 2007.\\n\\n\\nExamples\\n~~~~~~~~\\n\\n:ref:`sphx_glr_auto_examples_applications_plot_face_recognition.py`\\n\"}"
      ]
     },
     "execution_count": 11,
     "metadata": {},
     "output_type": "execute_result"
    }
   ],
   "source": [
    "faces"
   ]
  },
  {
   "cell_type": "code",
   "execution_count": 12,
   "metadata": {},
   "outputs": [
    {
     "data": {
      "text/plain": [
       "(368, 62, 47)"
      ]
     },
     "execution_count": 12,
     "metadata": {},
     "output_type": "execute_result"
    }
   ],
   "source": [
    "faces.images.shape"
   ]
  },
  {
   "cell_type": "code",
   "execution_count": 13,
   "metadata": {},
   "outputs": [
    {
     "data": {
      "text/plain": [
       "(368, 2914)"
      ]
     },
     "execution_count": 13,
     "metadata": {},
     "output_type": "execute_result"
    }
   ],
   "source": [
    "faces.data.shape"
   ]
  }
 ],
 "metadata": {
  "kernelspec": {
   "display_name": "Python 3",
   "language": "python",
   "name": "python3"
  },
  "language_info": {
   "codemirror_mode": {
    "name": "ipython",
    "version": 3
   },
   "file_extension": ".py",
   "mimetype": "text/x-python",
   "name": "python",
   "nbconvert_exporter": "python",
   "pygments_lexer": "ipython3",
   "version": "3.8.3"
  }
 },
 "nbformat": 4,
 "nbformat_minor": 4
}
